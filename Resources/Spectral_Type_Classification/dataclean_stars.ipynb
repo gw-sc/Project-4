{
 "cells": [
  {
   "cell_type": "code",
   "execution_count": 4,
   "id": "0ea80ac4",
   "metadata": {},
   "outputs": [],
   "source": [
    "import numpy as np\n",
    "import pandas as pd"
   ]
  },
  {
   "cell_type": "code",
   "execution_count": 5,
   "id": "efd46461",
   "metadata": {},
   "outputs": [
    {
     "data": {
      "text/html": [
       "<div>\n",
       "<style scoped>\n",
       "    .dataframe tbody tr th:only-of-type {\n",
       "        vertical-align: middle;\n",
       "    }\n",
       "\n",
       "    .dataframe tbody tr th {\n",
       "        vertical-align: top;\n",
       "    }\n",
       "\n",
       "    .dataframe thead th {\n",
       "        text-align: right;\n",
       "    }\n",
       "</style>\n",
       "<table border=\"1\" class=\"dataframe\">\n",
       "  <thead>\n",
       "    <tr style=\"text-align: right;\">\n",
       "      <th></th>\n",
       "      <th>Unnamed: 0</th>\n",
       "      <th>Vmag</th>\n",
       "      <th>Plx</th>\n",
       "      <th>e_Plx</th>\n",
       "      <th>B-V</th>\n",
       "      <th>SpType</th>\n",
       "    </tr>\n",
       "  </thead>\n",
       "  <tbody>\n",
       "    <tr>\n",
       "      <th>0</th>\n",
       "      <td>0</td>\n",
       "      <td>9.10</td>\n",
       "      <td>3.54</td>\n",
       "      <td>1.39</td>\n",
       "      <td>0.482</td>\n",
       "      <td>F5</td>\n",
       "    </tr>\n",
       "    <tr>\n",
       "      <th>1</th>\n",
       "      <td>1</td>\n",
       "      <td>9.27</td>\n",
       "      <td>21.90</td>\n",
       "      <td>3.10</td>\n",
       "      <td>0.999</td>\n",
       "      <td>K3V</td>\n",
       "    </tr>\n",
       "    <tr>\n",
       "      <th>2</th>\n",
       "      <td>2</td>\n",
       "      <td>6.61</td>\n",
       "      <td>2.81</td>\n",
       "      <td>0.63</td>\n",
       "      <td>-0.019</td>\n",
       "      <td>B9</td>\n",
       "    </tr>\n",
       "    <tr>\n",
       "      <th>3</th>\n",
       "      <td>3</td>\n",
       "      <td>8.06</td>\n",
       "      <td>7.75</td>\n",
       "      <td>0.97</td>\n",
       "      <td>0.370</td>\n",
       "      <td>F0V</td>\n",
       "    </tr>\n",
       "    <tr>\n",
       "      <th>4</th>\n",
       "      <td>4</td>\n",
       "      <td>8.55</td>\n",
       "      <td>2.87</td>\n",
       "      <td>1.11</td>\n",
       "      <td>0.902</td>\n",
       "      <td>G8III</td>\n",
       "    </tr>\n",
       "  </tbody>\n",
       "</table>\n",
       "</div>"
      ],
      "text/plain": [
       "   Unnamed: 0  Vmag      Plx   e_Plx     B-V SpType\n",
       "0           0  9.10     3.54    1.39   0.482     F5\n",
       "1           1  9.27    21.90    3.10   0.999    K3V\n",
       "2           2  6.61     2.81    0.63  -0.019     B9\n",
       "3           3  8.06     7.75    0.97   0.370    F0V\n",
       "4           4  8.55     2.87    1.11   0.902  G8III"
      ]
     },
     "execution_count": 5,
     "metadata": {},
     "output_type": "execute_result"
    }
   ],
   "source": [
    "stardf = pd.read_csv(\"Star9999_raw.csv\")\n",
    "stardf.head()"
   ]
  },
  {
   "cell_type": "code",
   "execution_count": 6,
   "id": "54927be7",
   "metadata": {},
   "outputs": [
    {
     "name": "stdout",
     "output_type": "stream",
     "text": [
      "<class 'pandas.core.frame.DataFrame'>\n",
      "RangeIndex: 9999 entries, 0 to 9998\n",
      "Data columns (total 6 columns):\n",
      " #   Column      Non-Null Count  Dtype  \n",
      "---  ------      --------------  -----  \n",
      " 0   Unnamed: 0  9999 non-null   int64  \n",
      " 1   Vmag        9999 non-null   float64\n",
      " 2   Plx         9999 non-null   object \n",
      " 3   e_Plx       9999 non-null   object \n",
      " 4   B-V         9999 non-null   object \n",
      " 5   SpType      9722 non-null   object \n",
      "dtypes: float64(1), int64(1), object(4)\n",
      "memory usage: 468.8+ KB\n"
     ]
    }
   ],
   "source": [
    "stardf.info ()\n",
    "#pix, epix and bv need to be converted to float type data \n",
    "#spType is missing data\n",
    "#noting my code as I go incase I go insane and someone has to retrace my steps lol :) "
   ]
  },
  {
   "cell_type": "markdown",
   "id": "a8dc4621",
   "metadata": {},
   "source": [
    "Vmag - Visual Apparent Magnitude of the Star\n",
    "\n",
    "Plx - Distance Between the Star and the Earth\n",
    "\n",
    "e_Plx - Standard Error of Plx (Drop the Row if you find the e_Plx is too high!)\n",
    "\n",
    "B-V - B-V color index. (A hot star has a B-V color index close to 0 or negative, while a cool star has a B-V color index close to 2.0. Other stars are somewhere in between.)\n",
    "\n",
    "SpType - Stellar classification. (Roman Numerals >IV are giants. Otherwise are dwarfs)"
   ]
  },
  {
   "cell_type": "code",
   "execution_count": 7,
   "id": "711cd71c",
   "metadata": {},
   "outputs": [
    {
     "data": {
      "text/html": [
       "<div>\n",
       "<style scoped>\n",
       "    .dataframe tbody tr th:only-of-type {\n",
       "        vertical-align: middle;\n",
       "    }\n",
       "\n",
       "    .dataframe tbody tr th {\n",
       "        vertical-align: top;\n",
       "    }\n",
       "\n",
       "    .dataframe thead th {\n",
       "        text-align: right;\n",
       "    }\n",
       "</style>\n",
       "<table border=\"1\" class=\"dataframe\">\n",
       "  <thead>\n",
       "    <tr style=\"text-align: right;\">\n",
       "      <th></th>\n",
       "      <th>Unnamed: 0</th>\n",
       "      <th>Vmag</th>\n",
       "    </tr>\n",
       "  </thead>\n",
       "  <tbody>\n",
       "    <tr>\n",
       "      <th>count</th>\n",
       "      <td>9999.000000</td>\n",
       "      <td>9999.000000</td>\n",
       "    </tr>\n",
       "    <tr>\n",
       "      <th>mean</th>\n",
       "      <td>4999.000000</td>\n",
       "      <td>8.479590</td>\n",
       "    </tr>\n",
       "    <tr>\n",
       "      <th>std</th>\n",
       "      <td>2886.607005</td>\n",
       "      <td>1.306924</td>\n",
       "    </tr>\n",
       "    <tr>\n",
       "      <th>min</th>\n",
       "      <td>0.000000</td>\n",
       "      <td>0.450000</td>\n",
       "    </tr>\n",
       "    <tr>\n",
       "      <th>25%</th>\n",
       "      <td>2499.500000</td>\n",
       "      <td>7.740000</td>\n",
       "    </tr>\n",
       "    <tr>\n",
       "      <th>50%</th>\n",
       "      <td>4999.000000</td>\n",
       "      <td>8.560000</td>\n",
       "    </tr>\n",
       "    <tr>\n",
       "      <th>75%</th>\n",
       "      <td>7498.500000</td>\n",
       "      <td>9.250000</td>\n",
       "    </tr>\n",
       "    <tr>\n",
       "      <th>max</th>\n",
       "      <td>9998.000000</td>\n",
       "      <td>13.270000</td>\n",
       "    </tr>\n",
       "  </tbody>\n",
       "</table>\n",
       "</div>"
      ],
      "text/plain": [
       "        Unnamed: 0         Vmag\n",
       "count  9999.000000  9999.000000\n",
       "mean   4999.000000     8.479590\n",
       "std    2886.607005     1.306924\n",
       "min       0.000000     0.450000\n",
       "25%    2499.500000     7.740000\n",
       "50%    4999.000000     8.560000\n",
       "75%    7498.500000     9.250000\n",
       "max    9998.000000    13.270000"
      ]
     },
     "execution_count": 7,
     "metadata": {},
     "output_type": "execute_result"
    }
   ],
   "source": [
    "stardf.describe ()"
   ]
  },
  {
   "cell_type": "code",
   "execution_count": 8,
   "id": "1c77d954",
   "metadata": {},
   "outputs": [
    {
     "data": {
      "text/plain": [
       "Unnamed: 0    9999\n",
       "Vmag           801\n",
       "Plx           2479\n",
       "e_Plx          511\n",
       "B-V           1859\n",
       "SpType         885\n",
       "dtype: int64"
      ]
     },
     "execution_count": 8,
     "metadata": {},
     "output_type": "execute_result"
    }
   ],
   "source": [
    "stardf.nunique()\n",
    "#need to drop index column "
   ]
  },
  {
   "cell_type": "code",
   "execution_count": 9,
   "id": "b34c3e7b",
   "metadata": {},
   "outputs": [],
   "source": [
    "#first convert to correct data types and go from there. \n",
    "#fix_stardf=stardf.astype({'Plx': 'float', 'e_Plx': 'float', 'B-V': 'float'})\n",
    "#must be letters in some null columns, will have to coerce. "
   ]
  },
  {
   "cell_type": "code",
   "execution_count": 11,
   "id": "917e6da6",
   "metadata": {},
   "outputs": [
    {
     "name": "stdout",
     "output_type": "stream",
     "text": [
      "<class 'pandas.core.frame.DataFrame'>\n",
      "RangeIndex: 9999 entries, 0 to 9998\n",
      "Data columns (total 6 columns):\n",
      " #   Column      Non-Null Count  Dtype  \n",
      "---  ------      --------------  -----  \n",
      " 0   Unnamed: 0  9999 non-null   int64  \n",
      " 1   Vmag        9999 non-null   float64\n",
      " 2   Plx         9984 non-null   float32\n",
      " 3   e_Plx       9984 non-null   float32\n",
      " 4   B-V         0 non-null      float32\n",
      " 5   SpType      0 non-null      float32\n",
      "dtypes: float32(4), float64(1), int64(1)\n",
      "memory usage: 312.6 KB\n"
     ]
    }
   ],
   "source": [
    "stardf[\"Plx\"] = pd.to_numeric(stardf[\"Plx\"], downcast=\"float\",errors='coerce')\n",
    "stardf[\"e_Plx\"] = pd.to_numeric(stardf[\"e_Plx\"], downcast=\"float\",errors='coerce')\n",
    "stardf[\"B-V\"] = pd.to_numeric(stardf[\"B-V\"], downcast=\"float\",errors='coerce')\n",
    "stardf[\"SpType\"] = pd.to_numeric(stardf[\"SpType\"], downcast=\"float\",errors='coerce')\n",
    "stardf.info ()"
   ]
  },
  {
   "cell_type": "code",
   "execution_count": 13,
   "id": "64b2b417",
   "metadata": {},
   "outputs": [
    {
     "data": {
      "text/html": [
       "<div>\n",
       "<style scoped>\n",
       "    .dataframe tbody tr th:only-of-type {\n",
       "        vertical-align: middle;\n",
       "    }\n",
       "\n",
       "    .dataframe tbody tr th {\n",
       "        vertical-align: top;\n",
       "    }\n",
       "\n",
       "    .dataframe thead th {\n",
       "        text-align: right;\n",
       "    }\n",
       "</style>\n",
       "<table border=\"1\" class=\"dataframe\">\n",
       "  <thead>\n",
       "    <tr style=\"text-align: right;\">\n",
       "      <th></th>\n",
       "      <th>Unnamed: 0</th>\n",
       "      <th>Vmag</th>\n",
       "      <th>Plx</th>\n",
       "      <th>e_Plx</th>\n",
       "      <th>B-V</th>\n",
       "      <th>SpType</th>\n",
       "    </tr>\n",
       "  </thead>\n",
       "  <tbody>\n",
       "    <tr>\n",
       "      <th>0</th>\n",
       "      <td>0</td>\n",
       "      <td>9.10</td>\n",
       "      <td>3.54</td>\n",
       "      <td>1.39</td>\n",
       "      <td>NaN</td>\n",
       "      <td>NaN</td>\n",
       "    </tr>\n",
       "    <tr>\n",
       "      <th>1</th>\n",
       "      <td>1</td>\n",
       "      <td>9.27</td>\n",
       "      <td>21.90</td>\n",
       "      <td>3.10</td>\n",
       "      <td>NaN</td>\n",
       "      <td>NaN</td>\n",
       "    </tr>\n",
       "    <tr>\n",
       "      <th>2</th>\n",
       "      <td>2</td>\n",
       "      <td>6.61</td>\n",
       "      <td>2.81</td>\n",
       "      <td>0.63</td>\n",
       "      <td>NaN</td>\n",
       "      <td>NaN</td>\n",
       "    </tr>\n",
       "    <tr>\n",
       "      <th>3</th>\n",
       "      <td>3</td>\n",
       "      <td>8.06</td>\n",
       "      <td>7.75</td>\n",
       "      <td>0.97</td>\n",
       "      <td>NaN</td>\n",
       "      <td>NaN</td>\n",
       "    </tr>\n",
       "    <tr>\n",
       "      <th>4</th>\n",
       "      <td>4</td>\n",
       "      <td>8.55</td>\n",
       "      <td>2.87</td>\n",
       "      <td>1.11</td>\n",
       "      <td>NaN</td>\n",
       "      <td>NaN</td>\n",
       "    </tr>\n",
       "  </tbody>\n",
       "</table>\n",
       "</div>"
      ],
      "text/plain": [
       "   Unnamed: 0  Vmag    Plx  e_Plx  B-V  SpType\n",
       "0           0  9.10   3.54   1.39  NaN     NaN\n",
       "1           1  9.27  21.90   3.10  NaN     NaN\n",
       "2           2  6.61   2.81   0.63  NaN     NaN\n",
       "3           3  8.06   7.75   0.97  NaN     NaN\n",
       "4           4  8.55   2.87   1.11  NaN     NaN"
      ]
     },
     "execution_count": 13,
     "metadata": {},
     "output_type": "execute_result"
    }
   ],
   "source": [
    "stardf.head ()"
   ]
  },
  {
   "cell_type": "code",
   "execution_count": 37,
   "id": "c171d074",
   "metadata": {},
   "outputs": [
    {
     "data": {
      "text/plain": [
       "Unnamed: 0      0\n",
       "Vmag            0\n",
       "Plx            15\n",
       "e_Plx          15\n",
       "B-V            92\n",
       "SpType        277\n",
       "dtype: int64"
      ]
     },
     "execution_count": 37,
     "metadata": {},
     "output_type": "execute_result"
    }
   ],
   "source": [
    "#find the null values and remove them \n",
    "null_val=stardf.isnull ().sum ()\n",
    "null_val"
   ]
  },
  {
   "cell_type": "code",
   "execution_count": 38,
   "id": "becc50e0",
   "metadata": {},
   "outputs": [
    {
     "data": {
      "text/plain": [
       "59994"
      ]
     },
     "execution_count": 38,
     "metadata": {},
     "output_type": "execute_result"
    }
   ],
   "source": [
    "#find the missing percentage of data\n",
    "#first find the total cells in the df\n",
    "totalcells= np.product(stardf.shape)\n",
    "totalcells"
   ]
  },
  {
   "cell_type": "code",
   "execution_count": 39,
   "id": "90b325d6",
   "metadata": {},
   "outputs": [
    {
     "data": {
      "text/plain": [
       "399"
      ]
     },
     "execution_count": 39,
     "metadata": {},
     "output_type": "execute_result"
    }
   ],
   "source": [
    "totalmissing= null_val.sum ()\n",
    "totalmissing"
   ]
  },
  {
   "cell_type": "code",
   "execution_count": 40,
   "id": "d5d62211",
   "metadata": {},
   "outputs": [
    {
     "data": {
      "text/plain": [
       "0.6650665066506651"
      ]
     },
     "execution_count": 40,
     "metadata": {},
     "output_type": "execute_result"
    }
   ],
   "source": [
    "missing=(totalmissing/totalcells)*100\n",
    "missing "
   ]
  },
  {
   "cell_type": "markdown",
   "id": "371354b8",
   "metadata": {},
   "source": [
    "We are only missing 0.665% of our data, this website says we can miss up to 5% of data without it impacting the machine learning. \n",
    "https://pressbooks.library.upei.ca/montelpare/chapter/working-with-missing-data/#:~:text=The%20overall%20percentage%20of%20data,to%20ignore%20them%20(REF)."
   ]
  },
  {
   "cell_type": "code",
   "execution_count": 41,
   "id": "bc0e7a30",
   "metadata": {},
   "outputs": [
    {
     "data": {
      "text/html": [
       "<div>\n",
       "<style scoped>\n",
       "    .dataframe tbody tr th:only-of-type {\n",
       "        vertical-align: middle;\n",
       "    }\n",
       "\n",
       "    .dataframe tbody tr th {\n",
       "        vertical-align: top;\n",
       "    }\n",
       "\n",
       "    .dataframe thead th {\n",
       "        text-align: right;\n",
       "    }\n",
       "</style>\n",
       "<table border=\"1\" class=\"dataframe\">\n",
       "  <thead>\n",
       "    <tr style=\"text-align: right;\">\n",
       "      <th></th>\n",
       "      <th>Unnamed: 0</th>\n",
       "      <th>Vmag</th>\n",
       "      <th>Plx</th>\n",
       "      <th>e_Plx</th>\n",
       "      <th>B-V</th>\n",
       "      <th>SpType</th>\n",
       "    </tr>\n",
       "  </thead>\n",
       "  <tbody>\n",
       "    <tr>\n",
       "      <th>0</th>\n",
       "      <td>0</td>\n",
       "      <td>9.10</td>\n",
       "      <td>3.54</td>\n",
       "      <td>1.39</td>\n",
       "      <td>0.482</td>\n",
       "      <td>F5</td>\n",
       "    </tr>\n",
       "    <tr>\n",
       "      <th>1</th>\n",
       "      <td>1</td>\n",
       "      <td>9.27</td>\n",
       "      <td>21.90</td>\n",
       "      <td>3.10</td>\n",
       "      <td>0.999</td>\n",
       "      <td>K3V</td>\n",
       "    </tr>\n",
       "    <tr>\n",
       "      <th>2</th>\n",
       "      <td>2</td>\n",
       "      <td>6.61</td>\n",
       "      <td>2.81</td>\n",
       "      <td>0.63</td>\n",
       "      <td>-0.019</td>\n",
       "      <td>B9</td>\n",
       "    </tr>\n",
       "    <tr>\n",
       "      <th>3</th>\n",
       "      <td>3</td>\n",
       "      <td>8.06</td>\n",
       "      <td>7.75</td>\n",
       "      <td>0.97</td>\n",
       "      <td>0.370</td>\n",
       "      <td>F0V</td>\n",
       "    </tr>\n",
       "    <tr>\n",
       "      <th>4</th>\n",
       "      <td>4</td>\n",
       "      <td>8.55</td>\n",
       "      <td>2.87</td>\n",
       "      <td>1.11</td>\n",
       "      <td>0.902</td>\n",
       "      <td>G8III</td>\n",
       "    </tr>\n",
       "    <tr>\n",
       "      <th>...</th>\n",
       "      <td>...</td>\n",
       "      <td>...</td>\n",
       "      <td>...</td>\n",
       "      <td>...</td>\n",
       "      <td>...</td>\n",
       "      <td>...</td>\n",
       "    </tr>\n",
       "    <tr>\n",
       "      <th>9994</th>\n",
       "      <td>9994</td>\n",
       "      <td>8.45</td>\n",
       "      <td>-0.93</td>\n",
       "      <td>1.13</td>\n",
       "      <td>1.404</td>\n",
       "      <td>K5</td>\n",
       "    </tr>\n",
       "    <tr>\n",
       "      <th>9995</th>\n",
       "      <td>9995</td>\n",
       "      <td>7.84</td>\n",
       "      <td>4.26</td>\n",
       "      <td>1.00</td>\n",
       "      <td>1.140</td>\n",
       "      <td>K1IIICN...</td>\n",
       "    </tr>\n",
       "    <tr>\n",
       "      <th>9996</th>\n",
       "      <td>9996</td>\n",
       "      <td>9.38</td>\n",
       "      <td>3.61</td>\n",
       "      <td>1.36</td>\n",
       "      <td>0.507</td>\n",
       "      <td>G0</td>\n",
       "    </tr>\n",
       "    <tr>\n",
       "      <th>9997</th>\n",
       "      <td>9997</td>\n",
       "      <td>7.64</td>\n",
       "      <td>4.75</td>\n",
       "      <td>0.97</td>\n",
       "      <td>0.075</td>\n",
       "      <td>A2</td>\n",
       "    </tr>\n",
       "    <tr>\n",
       "      <th>9998</th>\n",
       "      <td>9998</td>\n",
       "      <td>9.00</td>\n",
       "      <td>10.61</td>\n",
       "      <td>1.45</td>\n",
       "      <td>0.566</td>\n",
       "      <td>G1V</td>\n",
       "    </tr>\n",
       "  </tbody>\n",
       "</table>\n",
       "<p>9679 rows × 6 columns</p>\n",
       "</div>"
      ],
      "text/plain": [
       "      Unnamed: 0  Vmag    Plx  e_Plx    B-V      SpType\n",
       "0              0  9.10   3.54   1.39  0.482          F5\n",
       "1              1  9.27  21.90   3.10  0.999         K3V\n",
       "2              2  6.61   2.81   0.63 -0.019          B9\n",
       "3              3  8.06   7.75   0.97  0.370         F0V\n",
       "4              4  8.55   2.87   1.11  0.902       G8III\n",
       "...          ...   ...    ...    ...    ...         ...\n",
       "9994        9994  8.45  -0.93   1.13  1.404          K5\n",
       "9995        9995  7.84   4.26   1.00  1.140  K1IIICN...\n",
       "9996        9996  9.38   3.61   1.36  0.507          G0\n",
       "9997        9997  7.64   4.75   0.97  0.075          A2\n",
       "9998        9998  9.00  10.61   1.45  0.566         G1V\n",
       "\n",
       "[9679 rows x 6 columns]"
      ]
     },
     "execution_count": 41,
     "metadata": {},
     "output_type": "execute_result"
    }
   ],
   "source": [
    "clean_stardf= stardf.dropna ()\n",
    "clean_stardf"
   ]
  },
  {
   "cell_type": "code",
   "execution_count": 42,
   "id": "eba03848",
   "metadata": {},
   "outputs": [
    {
     "data": {
      "text/plain": [
       "320"
      ]
     },
     "execution_count": 42,
     "metadata": {},
     "output_type": "execute_result"
    }
   ],
   "source": [
    "#because i dropped entire rows of data I need to figure out the new percentage loss of data \n",
    "dropped=stardf.shape[0]-clean_stardf.shape[0]\n",
    "dropped\n",
    "# given that this dataset is 10000 rows it's pretty clear, but just to check i did the below code too. "
   ]
  },
  {
   "cell_type": "code",
   "execution_count": 43,
   "id": "c9002d63",
   "metadata": {},
   "outputs": [
    {
     "data": {
      "text/plain": [
       "3.2"
      ]
     },
     "execution_count": 43,
     "metadata": {},
     "output_type": "execute_result"
    }
   ],
   "source": [
    "totalpercentmissing= (dropped/10000)*100\n",
    "totalpercentmissing"
   ]
  },
  {
   "cell_type": "markdown",
   "id": "7b101245",
   "metadata": {},
   "source": [
    "We are missing 3.2% of our data from the whole data set, which is still below the 5% so we are fine to simply drop the rows. \n",
    "The dataframe is now clean with the correct data types and with no null values. I just need to remove the first col because it's the same as the index.  "
   ]
  },
  {
   "cell_type": "code",
   "execution_count": 44,
   "id": "95ec3b8c",
   "metadata": {},
   "outputs": [
    {
     "data": {
      "text/html": [
       "<div>\n",
       "<style scoped>\n",
       "    .dataframe tbody tr th:only-of-type {\n",
       "        vertical-align: middle;\n",
       "    }\n",
       "\n",
       "    .dataframe tbody tr th {\n",
       "        vertical-align: top;\n",
       "    }\n",
       "\n",
       "    .dataframe thead th {\n",
       "        text-align: right;\n",
       "    }\n",
       "</style>\n",
       "<table border=\"1\" class=\"dataframe\">\n",
       "  <thead>\n",
       "    <tr style=\"text-align: right;\">\n",
       "      <th></th>\n",
       "      <th>Vmag</th>\n",
       "      <th>Plx</th>\n",
       "      <th>e_Plx</th>\n",
       "      <th>B-V</th>\n",
       "      <th>SpType</th>\n",
       "    </tr>\n",
       "  </thead>\n",
       "  <tbody>\n",
       "    <tr>\n",
       "      <th>0</th>\n",
       "      <td>9.10</td>\n",
       "      <td>3.54</td>\n",
       "      <td>1.39</td>\n",
       "      <td>0.482</td>\n",
       "      <td>F5</td>\n",
       "    </tr>\n",
       "    <tr>\n",
       "      <th>1</th>\n",
       "      <td>9.27</td>\n",
       "      <td>21.90</td>\n",
       "      <td>3.10</td>\n",
       "      <td>0.999</td>\n",
       "      <td>K3V</td>\n",
       "    </tr>\n",
       "    <tr>\n",
       "      <th>2</th>\n",
       "      <td>6.61</td>\n",
       "      <td>2.81</td>\n",
       "      <td>0.63</td>\n",
       "      <td>-0.019</td>\n",
       "      <td>B9</td>\n",
       "    </tr>\n",
       "    <tr>\n",
       "      <th>3</th>\n",
       "      <td>8.06</td>\n",
       "      <td>7.75</td>\n",
       "      <td>0.97</td>\n",
       "      <td>0.370</td>\n",
       "      <td>F0V</td>\n",
       "    </tr>\n",
       "    <tr>\n",
       "      <th>4</th>\n",
       "      <td>8.55</td>\n",
       "      <td>2.87</td>\n",
       "      <td>1.11</td>\n",
       "      <td>0.902</td>\n",
       "      <td>G8III</td>\n",
       "    </tr>\n",
       "    <tr>\n",
       "      <th>...</th>\n",
       "      <td>...</td>\n",
       "      <td>...</td>\n",
       "      <td>...</td>\n",
       "      <td>...</td>\n",
       "      <td>...</td>\n",
       "    </tr>\n",
       "    <tr>\n",
       "      <th>9994</th>\n",
       "      <td>8.45</td>\n",
       "      <td>-0.93</td>\n",
       "      <td>1.13</td>\n",
       "      <td>1.404</td>\n",
       "      <td>K5</td>\n",
       "    </tr>\n",
       "    <tr>\n",
       "      <th>9995</th>\n",
       "      <td>7.84</td>\n",
       "      <td>4.26</td>\n",
       "      <td>1.00</td>\n",
       "      <td>1.140</td>\n",
       "      <td>K1IIICN...</td>\n",
       "    </tr>\n",
       "    <tr>\n",
       "      <th>9996</th>\n",
       "      <td>9.38</td>\n",
       "      <td>3.61</td>\n",
       "      <td>1.36</td>\n",
       "      <td>0.507</td>\n",
       "      <td>G0</td>\n",
       "    </tr>\n",
       "    <tr>\n",
       "      <th>9997</th>\n",
       "      <td>7.64</td>\n",
       "      <td>4.75</td>\n",
       "      <td>0.97</td>\n",
       "      <td>0.075</td>\n",
       "      <td>A2</td>\n",
       "    </tr>\n",
       "    <tr>\n",
       "      <th>9998</th>\n",
       "      <td>9.00</td>\n",
       "      <td>10.61</td>\n",
       "      <td>1.45</td>\n",
       "      <td>0.566</td>\n",
       "      <td>G1V</td>\n",
       "    </tr>\n",
       "  </tbody>\n",
       "</table>\n",
       "<p>9679 rows × 5 columns</p>\n",
       "</div>"
      ],
      "text/plain": [
       "      Vmag    Plx  e_Plx    B-V      SpType\n",
       "0     9.10   3.54   1.39  0.482          F5\n",
       "1     9.27  21.90   3.10  0.999         K3V\n",
       "2     6.61   2.81   0.63 -0.019          B9\n",
       "3     8.06   7.75   0.97  0.370         F0V\n",
       "4     8.55   2.87   1.11  0.902       G8III\n",
       "...    ...    ...    ...    ...         ...\n",
       "9994  8.45  -0.93   1.13  1.404          K5\n",
       "9995  7.84   4.26   1.00  1.140  K1IIICN...\n",
       "9996  9.38   3.61   1.36  0.507          G0\n",
       "9997  7.64   4.75   0.97  0.075          A2\n",
       "9998  9.00  10.61   1.45  0.566         G1V\n",
       "\n",
       "[9679 rows x 5 columns]"
      ]
     },
     "execution_count": 44,
     "metadata": {},
     "output_type": "execute_result"
    }
   ],
   "source": [
    "clean_stardf= clean_stardf. drop('Unnamed: 0', axis=1)\n",
    "clean_stardf"
   ]
  },
  {
   "cell_type": "code",
   "execution_count": 45,
   "id": "6e40fdb8",
   "metadata": {},
   "outputs": [],
   "source": [
    "#index is off because of dropped columns \n",
    "clean_stardf=clean_stardf.reset_index(drop=True)"
   ]
  },
  {
   "cell_type": "code",
   "execution_count": 46,
   "id": "61feeb3a",
   "metadata": {},
   "outputs": [
    {
     "data": {
      "text/html": [
       "<div>\n",
       "<style scoped>\n",
       "    .dataframe tbody tr th:only-of-type {\n",
       "        vertical-align: middle;\n",
       "    }\n",
       "\n",
       "    .dataframe tbody tr th {\n",
       "        vertical-align: top;\n",
       "    }\n",
       "\n",
       "    .dataframe thead th {\n",
       "        text-align: right;\n",
       "    }\n",
       "</style>\n",
       "<table border=\"1\" class=\"dataframe\">\n",
       "  <thead>\n",
       "    <tr style=\"text-align: right;\">\n",
       "      <th></th>\n",
       "      <th>Vmag</th>\n",
       "      <th>Plx</th>\n",
       "      <th>e_Plx</th>\n",
       "      <th>B-V</th>\n",
       "      <th>SpType</th>\n",
       "    </tr>\n",
       "  </thead>\n",
       "  <tbody>\n",
       "    <tr>\n",
       "      <th>0</th>\n",
       "      <td>9.10</td>\n",
       "      <td>3.54</td>\n",
       "      <td>1.39</td>\n",
       "      <td>0.482</td>\n",
       "      <td>F5</td>\n",
       "    </tr>\n",
       "    <tr>\n",
       "      <th>1</th>\n",
       "      <td>9.27</td>\n",
       "      <td>21.90</td>\n",
       "      <td>3.10</td>\n",
       "      <td>0.999</td>\n",
       "      <td>K3V</td>\n",
       "    </tr>\n",
       "    <tr>\n",
       "      <th>2</th>\n",
       "      <td>6.61</td>\n",
       "      <td>2.81</td>\n",
       "      <td>0.63</td>\n",
       "      <td>-0.019</td>\n",
       "      <td>B9</td>\n",
       "    </tr>\n",
       "    <tr>\n",
       "      <th>3</th>\n",
       "      <td>8.06</td>\n",
       "      <td>7.75</td>\n",
       "      <td>0.97</td>\n",
       "      <td>0.370</td>\n",
       "      <td>F0V</td>\n",
       "    </tr>\n",
       "    <tr>\n",
       "      <th>4</th>\n",
       "      <td>8.55</td>\n",
       "      <td>2.87</td>\n",
       "      <td>1.11</td>\n",
       "      <td>0.902</td>\n",
       "      <td>G8III</td>\n",
       "    </tr>\n",
       "    <tr>\n",
       "      <th>...</th>\n",
       "      <td>...</td>\n",
       "      <td>...</td>\n",
       "      <td>...</td>\n",
       "      <td>...</td>\n",
       "      <td>...</td>\n",
       "    </tr>\n",
       "    <tr>\n",
       "      <th>9674</th>\n",
       "      <td>8.45</td>\n",
       "      <td>-0.93</td>\n",
       "      <td>1.13</td>\n",
       "      <td>1.404</td>\n",
       "      <td>K5</td>\n",
       "    </tr>\n",
       "    <tr>\n",
       "      <th>9675</th>\n",
       "      <td>7.84</td>\n",
       "      <td>4.26</td>\n",
       "      <td>1.00</td>\n",
       "      <td>1.140</td>\n",
       "      <td>K1IIICN...</td>\n",
       "    </tr>\n",
       "    <tr>\n",
       "      <th>9676</th>\n",
       "      <td>9.38</td>\n",
       "      <td>3.61</td>\n",
       "      <td>1.36</td>\n",
       "      <td>0.507</td>\n",
       "      <td>G0</td>\n",
       "    </tr>\n",
       "    <tr>\n",
       "      <th>9677</th>\n",
       "      <td>7.64</td>\n",
       "      <td>4.75</td>\n",
       "      <td>0.97</td>\n",
       "      <td>0.075</td>\n",
       "      <td>A2</td>\n",
       "    </tr>\n",
       "    <tr>\n",
       "      <th>9678</th>\n",
       "      <td>9.00</td>\n",
       "      <td>10.61</td>\n",
       "      <td>1.45</td>\n",
       "      <td>0.566</td>\n",
       "      <td>G1V</td>\n",
       "    </tr>\n",
       "  </tbody>\n",
       "</table>\n",
       "<p>9679 rows × 5 columns</p>\n",
       "</div>"
      ],
      "text/plain": [
       "      Vmag    Plx  e_Plx    B-V      SpType\n",
       "0     9.10   3.54   1.39  0.482          F5\n",
       "1     9.27  21.90   3.10  0.999         K3V\n",
       "2     6.61   2.81   0.63 -0.019          B9\n",
       "3     8.06   7.75   0.97  0.370         F0V\n",
       "4     8.55   2.87   1.11  0.902       G8III\n",
       "...    ...    ...    ...    ...         ...\n",
       "9674  8.45  -0.93   1.13  1.404          K5\n",
       "9675  7.84   4.26   1.00  1.140  K1IIICN...\n",
       "9676  9.38   3.61   1.36  0.507          G0\n",
       "9677  7.64   4.75   0.97  0.075          A2\n",
       "9678  9.00  10.61   1.45  0.566         G1V\n",
       "\n",
       "[9679 rows x 5 columns]"
      ]
     },
     "execution_count": 46,
     "metadata": {},
     "output_type": "execute_result"
    }
   ],
   "source": [
    "clean_stardf"
   ]
  },
  {
   "cell_type": "code",
   "execution_count": 47,
   "id": "9052ab7c",
   "metadata": {},
   "outputs": [],
   "source": [
    "#index is fixed, going to check the data now "
   ]
  },
  {
   "cell_type": "code",
   "execution_count": 48,
   "id": "62b0010b",
   "metadata": {},
   "outputs": [
    {
     "name": "stdout",
     "output_type": "stream",
     "text": [
      "<class 'pandas.core.frame.DataFrame'>\n",
      "RangeIndex: 9679 entries, 0 to 9678\n",
      "Data columns (total 5 columns):\n",
      " #   Column  Non-Null Count  Dtype  \n",
      "---  ------  --------------  -----  \n",
      " 0   Vmag    9679 non-null   float64\n",
      " 1   Plx     9679 non-null   float32\n",
      " 2   e_Plx   9679 non-null   float32\n",
      " 3   B-V     9679 non-null   float32\n",
      " 4   SpType  9679 non-null   object \n",
      "dtypes: float32(3), float64(1), object(1)\n",
      "memory usage: 264.8+ KB\n"
     ]
    }
   ],
   "source": [
    "clean_stardf.info ()"
   ]
  },
  {
   "cell_type": "code",
   "execution_count": 49,
   "id": "72e25006",
   "metadata": {},
   "outputs": [
    {
     "data": {
      "text/html": [
       "<div>\n",
       "<style scoped>\n",
       "    .dataframe tbody tr th:only-of-type {\n",
       "        vertical-align: middle;\n",
       "    }\n",
       "\n",
       "    .dataframe tbody tr th {\n",
       "        vertical-align: top;\n",
       "    }\n",
       "\n",
       "    .dataframe thead th {\n",
       "        text-align: right;\n",
       "    }\n",
       "</style>\n",
       "<table border=\"1\" class=\"dataframe\">\n",
       "  <thead>\n",
       "    <tr style=\"text-align: right;\">\n",
       "      <th></th>\n",
       "      <th>Vmag</th>\n",
       "      <th>Plx</th>\n",
       "      <th>e_Plx</th>\n",
       "      <th>B-V</th>\n",
       "    </tr>\n",
       "  </thead>\n",
       "  <tbody>\n",
       "    <tr>\n",
       "      <th>count</th>\n",
       "      <td>9679.000000</td>\n",
       "      <td>9679.000000</td>\n",
       "      <td>9679.000000</td>\n",
       "      <td>9679.000000</td>\n",
       "    </tr>\n",
       "    <tr>\n",
       "      <th>mean</th>\n",
       "      <td>8.407476</td>\n",
       "      <td>7.544123</td>\n",
       "      <td>1.296846</td>\n",
       "      <td>0.742994</td>\n",
       "    </tr>\n",
       "    <tr>\n",
       "      <th>std</th>\n",
       "      <td>1.253048</td>\n",
       "      <td>11.039949</td>\n",
       "      <td>1.187328</td>\n",
       "      <td>0.454989</td>\n",
       "    </tr>\n",
       "    <tr>\n",
       "      <th>min</th>\n",
       "      <td>0.450000</td>\n",
       "      <td>-18.170000</td>\n",
       "      <td>0.470000</td>\n",
       "      <td>-0.359000</td>\n",
       "    </tr>\n",
       "    <tr>\n",
       "      <th>25%</th>\n",
       "      <td>7.710000</td>\n",
       "      <td>2.730000</td>\n",
       "      <td>0.910000</td>\n",
       "      <td>0.419000</td>\n",
       "    </tr>\n",
       "    <tr>\n",
       "      <th>50%</th>\n",
       "      <td>8.520000</td>\n",
       "      <td>4.920000</td>\n",
       "      <td>1.110000</td>\n",
       "      <td>0.644000</td>\n",
       "    </tr>\n",
       "    <tr>\n",
       "      <th>75%</th>\n",
       "      <td>9.170000</td>\n",
       "      <td>8.755000</td>\n",
       "      <td>1.360000</td>\n",
       "      <td>1.083500</td>\n",
       "    </tr>\n",
       "    <tr>\n",
       "      <th>max</th>\n",
       "      <td>12.810000</td>\n",
       "      <td>280.269989</td>\n",
       "      <td>33.049999</td>\n",
       "      <td>2.835000</td>\n",
       "    </tr>\n",
       "  </tbody>\n",
       "</table>\n",
       "</div>"
      ],
      "text/plain": [
       "              Vmag          Plx        e_Plx          B-V\n",
       "count  9679.000000  9679.000000  9679.000000  9679.000000\n",
       "mean      8.407476     7.544123     1.296846     0.742994\n",
       "std       1.253048    11.039949     1.187328     0.454989\n",
       "min       0.450000   -18.170000     0.470000    -0.359000\n",
       "25%       7.710000     2.730000     0.910000     0.419000\n",
       "50%       8.520000     4.920000     1.110000     0.644000\n",
       "75%       9.170000     8.755000     1.360000     1.083500\n",
       "max      12.810000   280.269989    33.049999     2.835000"
      ]
     },
     "execution_count": 49,
     "metadata": {},
     "output_type": "execute_result"
    }
   ],
   "source": [
    "clean_stardf.describe ()"
   ]
  },
  {
   "cell_type": "code",
   "execution_count": 50,
   "id": "71ad9a50",
   "metadata": {},
   "outputs": [],
   "source": [
    "# no missing data and the index lines up with the values :) "
   ]
  },
  {
   "cell_type": "code",
   "execution_count": 51,
   "id": "26cdb511",
   "metadata": {},
   "outputs": [],
   "source": [
    "clean_stardf.to_csv(\"clean_stars.csv\", index=False)"
   ]
  },
  {
   "cell_type": "code",
   "execution_count": null,
   "id": "d5afdf73",
   "metadata": {},
   "outputs": [],
   "source": []
  }
 ],
 "metadata": {
  "kernelspec": {
   "display_name": "Python 3 (ipykernel)",
   "language": "python",
   "name": "python3"
  },
  "language_info": {
   "codemirror_mode": {
    "name": "ipython",
    "version": 3
   },
   "file_extension": ".py",
   "mimetype": "text/x-python",
   "name": "python",
   "nbconvert_exporter": "python",
   "pygments_lexer": "ipython3",
   "version": "3.9.12"
  }
 },
 "nbformat": 4,
 "nbformat_minor": 5
}
