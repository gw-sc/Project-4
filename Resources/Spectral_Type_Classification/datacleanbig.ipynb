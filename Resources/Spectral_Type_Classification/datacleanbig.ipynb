{
 "cells": [
  {
   "cell_type": "code",
   "execution_count": 1,
   "id": "c65bfda6",
   "metadata": {},
   "outputs": [],
   "source": [
    "import numpy as np\n",
    "import pandas as pd"
   ]
  },
  {
   "cell_type": "code",
   "execution_count": 2,
   "id": "7f363593",
   "metadata": {},
   "outputs": [
    {
     "data": {
      "text/html": [
       "<div>\n",
       "<style scoped>\n",
       "    .dataframe tbody tr th:only-of-type {\n",
       "        vertical-align: middle;\n",
       "    }\n",
       "\n",
       "    .dataframe tbody tr th {\n",
       "        vertical-align: top;\n",
       "    }\n",
       "\n",
       "    .dataframe thead th {\n",
       "        text-align: right;\n",
       "    }\n",
       "</style>\n",
       "<table border=\"1\" class=\"dataframe\">\n",
       "  <thead>\n",
       "    <tr style=\"text-align: right;\">\n",
       "      <th></th>\n",
       "      <th>Unnamed: 0</th>\n",
       "      <th>Vmag</th>\n",
       "      <th>Plx</th>\n",
       "      <th>e_Plx</th>\n",
       "      <th>B-V</th>\n",
       "      <th>SpType</th>\n",
       "    </tr>\n",
       "  </thead>\n",
       "  <tbody>\n",
       "    <tr>\n",
       "      <th>0</th>\n",
       "      <td>0</td>\n",
       "      <td>9.10</td>\n",
       "      <td>3.54</td>\n",
       "      <td>1.39</td>\n",
       "      <td>0.482</td>\n",
       "      <td>F5</td>\n",
       "    </tr>\n",
       "    <tr>\n",
       "      <th>1</th>\n",
       "      <td>1</td>\n",
       "      <td>9.27</td>\n",
       "      <td>21.90</td>\n",
       "      <td>3.10</td>\n",
       "      <td>0.999</td>\n",
       "      <td>K3V</td>\n",
       "    </tr>\n",
       "    <tr>\n",
       "      <th>2</th>\n",
       "      <td>2</td>\n",
       "      <td>6.61</td>\n",
       "      <td>2.81</td>\n",
       "      <td>0.63</td>\n",
       "      <td>-0.019</td>\n",
       "      <td>B9</td>\n",
       "    </tr>\n",
       "    <tr>\n",
       "      <th>3</th>\n",
       "      <td>3</td>\n",
       "      <td>8.06</td>\n",
       "      <td>7.75</td>\n",
       "      <td>0.97</td>\n",
       "      <td>0.370</td>\n",
       "      <td>F0V</td>\n",
       "    </tr>\n",
       "    <tr>\n",
       "      <th>4</th>\n",
       "      <td>4</td>\n",
       "      <td>8.55</td>\n",
       "      <td>2.87</td>\n",
       "      <td>1.11</td>\n",
       "      <td>0.902</td>\n",
       "      <td>G8III</td>\n",
       "    </tr>\n",
       "  </tbody>\n",
       "</table>\n",
       "</div>"
      ],
      "text/plain": [
       "   Unnamed: 0   Vmag      Plx   e_Plx     B-V SpType\n",
       "0           0   9.10     3.54    1.39   0.482     F5\n",
       "1           1   9.27    21.90    3.10   0.999    K3V\n",
       "2           2   6.61     2.81    0.63  -0.019     B9\n",
       "3           3   8.06     7.75    0.97   0.370    F0V\n",
       "4           4   8.55     2.87    1.11   0.902  G8III"
      ]
     },
     "execution_count": 2,
     "metadata": {},
     "output_type": "execute_result"
    }
   ],
   "source": [
    "stardf = pd.read_csv(\"Star99999_raw.csv\")\n",
    "stardf.head()"
   ]
  },
  {
   "cell_type": "code",
   "execution_count": 3,
   "id": "d9bc18f2",
   "metadata": {},
   "outputs": [
    {
     "name": "stdout",
     "output_type": "stream",
     "text": [
      "<class 'pandas.core.frame.DataFrame'>\n",
      "RangeIndex: 99999 entries, 0 to 99998\n",
      "Data columns (total 6 columns):\n",
      " #   Column      Non-Null Count  Dtype \n",
      "---  ------      --------------  ----- \n",
      " 0   Unnamed: 0  99999 non-null  int64 \n",
      " 1   Vmag        99999 non-null  object\n",
      " 2   Plx         99999 non-null  object\n",
      " 3   e_Plx       99999 non-null  object\n",
      " 4   B-V         99999 non-null  object\n",
      " 5   SpType      97377 non-null  object\n",
      "dtypes: int64(1), object(5)\n",
      "memory usage: 4.6+ MB\n"
     ]
    }
   ],
   "source": [
    "stardf.info ()"
   ]
  },
  {
   "cell_type": "code",
   "execution_count": 4,
   "id": "b2ae7f96",
   "metadata": {},
   "outputs": [
    {
     "data": {
      "text/html": [
       "<div>\n",
       "<style scoped>\n",
       "    .dataframe tbody tr th:only-of-type {\n",
       "        vertical-align: middle;\n",
       "    }\n",
       "\n",
       "    .dataframe tbody tr th {\n",
       "        vertical-align: top;\n",
       "    }\n",
       "\n",
       "    .dataframe thead th {\n",
       "        text-align: right;\n",
       "    }\n",
       "</style>\n",
       "<table border=\"1\" class=\"dataframe\">\n",
       "  <thead>\n",
       "    <tr style=\"text-align: right;\">\n",
       "      <th></th>\n",
       "      <th>Unnamed: 0</th>\n",
       "    </tr>\n",
       "  </thead>\n",
       "  <tbody>\n",
       "    <tr>\n",
       "      <th>count</th>\n",
       "      <td>99999.000000</td>\n",
       "    </tr>\n",
       "    <tr>\n",
       "      <th>mean</th>\n",
       "      <td>49999.000000</td>\n",
       "    </tr>\n",
       "    <tr>\n",
       "      <th>std</th>\n",
       "      <td>28867.369122</td>\n",
       "    </tr>\n",
       "    <tr>\n",
       "      <th>min</th>\n",
       "      <td>0.000000</td>\n",
       "    </tr>\n",
       "    <tr>\n",
       "      <th>25%</th>\n",
       "      <td>24999.500000</td>\n",
       "    </tr>\n",
       "    <tr>\n",
       "      <th>50%</th>\n",
       "      <td>49999.000000</td>\n",
       "    </tr>\n",
       "    <tr>\n",
       "      <th>75%</th>\n",
       "      <td>74998.500000</td>\n",
       "    </tr>\n",
       "    <tr>\n",
       "      <th>max</th>\n",
       "      <td>99998.000000</td>\n",
       "    </tr>\n",
       "  </tbody>\n",
       "</table>\n",
       "</div>"
      ],
      "text/plain": [
       "         Unnamed: 0\n",
       "count  99999.000000\n",
       "mean   49999.000000\n",
       "std    28867.369122\n",
       "min        0.000000\n",
       "25%    24999.500000\n",
       "50%    49999.000000\n",
       "75%    74998.500000\n",
       "max    99998.000000"
      ]
     },
     "execution_count": 4,
     "metadata": {},
     "output_type": "execute_result"
    }
   ],
   "source": [
    "stardf.describe ()"
   ]
  },
  {
   "cell_type": "code",
   "execution_count": 5,
   "id": "482326c8",
   "metadata": {},
   "outputs": [
    {
     "data": {
      "text/plain": [
       "Unnamed: 0    99999\n",
       "Vmag           1110\n",
       "Plx            5331\n",
       "e_Plx          1282\n",
       "B-V            2392\n",
       "SpType         3756\n",
       "dtype: int64"
      ]
     },
     "execution_count": 5,
     "metadata": {},
     "output_type": "execute_result"
    }
   ],
   "source": [
    "stardf.nunique()"
   ]
  },
  {
   "cell_type": "code",
   "execution_count": 6,
   "id": "a954b237",
   "metadata": {},
   "outputs": [],
   "source": [
    "stardf[\"Vmag\"] = pd.to_numeric(stardf[\"Vmag\"], downcast=\"float\",errors='coerce')\n",
    "stardf[\"Plx\"] = pd.to_numeric(stardf[\"Plx\"], downcast=\"float\",errors='coerce')\n",
    "stardf[\"e_Plx\"] = pd.to_numeric(stardf[\"e_Plx\"], downcast=\"float\",errors='coerce')\n",
    "stardf[\"B-V\"] = pd.to_numeric(stardf[\"B-V\"], downcast=\"float\",errors='coerce')"
   ]
  },
  {
   "cell_type": "code",
   "execution_count": 7,
   "id": "6ed1bc07",
   "metadata": {},
   "outputs": [
    {
     "name": "stdout",
     "output_type": "stream",
     "text": [
      "<class 'pandas.core.frame.DataFrame'>\n",
      "RangeIndex: 99999 entries, 0 to 99998\n",
      "Data columns (total 6 columns):\n",
      " #   Column      Non-Null Count  Dtype  \n",
      "---  ------      --------------  -----  \n",
      " 0   Unnamed: 0  99999 non-null  int64  \n",
      " 1   Vmag        99998 non-null  float32\n",
      " 2   Plx         99768 non-null  float32\n",
      " 3   e_Plx       99768 non-null  float32\n",
      " 4   B-V         98871 non-null  float32\n",
      " 5   SpType      97377 non-null  object \n",
      "dtypes: float32(4), int64(1), object(1)\n",
      "memory usage: 3.1+ MB\n"
     ]
    }
   ],
   "source": [
    "stardf.info ()"
   ]
  },
  {
   "cell_type": "code",
   "execution_count": 8,
   "id": "6ae5d68a",
   "metadata": {},
   "outputs": [
    {
     "data": {
      "text/plain": [
       "Unnamed: 0       0\n",
       "Vmag             1\n",
       "Plx            231\n",
       "e_Plx          231\n",
       "B-V           1128\n",
       "SpType        2622\n",
       "dtype: int64"
      ]
     },
     "execution_count": 8,
     "metadata": {},
     "output_type": "execute_result"
    }
   ],
   "source": [
    "null_val=stardf.isnull ().sum ()\n",
    "null_val"
   ]
  },
  {
   "cell_type": "code",
   "execution_count": 9,
   "id": "df6767bd",
   "metadata": {},
   "outputs": [
    {
     "data": {
      "text/plain": [
       "599994"
      ]
     },
     "execution_count": 9,
     "metadata": {},
     "output_type": "execute_result"
    }
   ],
   "source": [
    "totalcells= np.product(stardf.shape)\n",
    "totalcells"
   ]
  },
  {
   "cell_type": "code",
   "execution_count": 10,
   "id": "2413b094",
   "metadata": {},
   "outputs": [
    {
     "data": {
      "text/plain": [
       "4213"
      ]
     },
     "execution_count": 10,
     "metadata": {},
     "output_type": "execute_result"
    }
   ],
   "source": [
    "totalmissing= null_val.sum ()\n",
    "totalmissing"
   ]
  },
  {
   "cell_type": "code",
   "execution_count": 11,
   "id": "396ac0cd",
   "metadata": {},
   "outputs": [
    {
     "data": {
      "text/plain": [
       "0.7021736884035507"
      ]
     },
     "execution_count": 11,
     "metadata": {},
     "output_type": "execute_result"
    }
   ],
   "source": [
    "missing=(totalmissing/totalcells)*100\n",
    "missing "
   ]
  },
  {
   "cell_type": "code",
   "execution_count": 12,
   "id": "4261698b",
   "metadata": {},
   "outputs": [
    {
     "data": {
      "text/html": [
       "<div>\n",
       "<style scoped>\n",
       "    .dataframe tbody tr th:only-of-type {\n",
       "        vertical-align: middle;\n",
       "    }\n",
       "\n",
       "    .dataframe tbody tr th {\n",
       "        vertical-align: top;\n",
       "    }\n",
       "\n",
       "    .dataframe thead th {\n",
       "        text-align: right;\n",
       "    }\n",
       "</style>\n",
       "<table border=\"1\" class=\"dataframe\">\n",
       "  <thead>\n",
       "    <tr style=\"text-align: right;\">\n",
       "      <th></th>\n",
       "      <th>Unnamed: 0</th>\n",
       "      <th>Vmag</th>\n",
       "      <th>Plx</th>\n",
       "      <th>e_Plx</th>\n",
       "      <th>B-V</th>\n",
       "      <th>SpType</th>\n",
       "    </tr>\n",
       "  </thead>\n",
       "  <tbody>\n",
       "    <tr>\n",
       "      <th>0</th>\n",
       "      <td>0</td>\n",
       "      <td>9.10</td>\n",
       "      <td>3.54</td>\n",
       "      <td>1.39</td>\n",
       "      <td>0.482</td>\n",
       "      <td>F5</td>\n",
       "    </tr>\n",
       "    <tr>\n",
       "      <th>1</th>\n",
       "      <td>1</td>\n",
       "      <td>9.27</td>\n",
       "      <td>21.90</td>\n",
       "      <td>3.10</td>\n",
       "      <td>0.999</td>\n",
       "      <td>K3V</td>\n",
       "    </tr>\n",
       "    <tr>\n",
       "      <th>2</th>\n",
       "      <td>2</td>\n",
       "      <td>6.61</td>\n",
       "      <td>2.81</td>\n",
       "      <td>0.63</td>\n",
       "      <td>-0.019</td>\n",
       "      <td>B9</td>\n",
       "    </tr>\n",
       "    <tr>\n",
       "      <th>3</th>\n",
       "      <td>3</td>\n",
       "      <td>8.06</td>\n",
       "      <td>7.75</td>\n",
       "      <td>0.97</td>\n",
       "      <td>0.370</td>\n",
       "      <td>F0V</td>\n",
       "    </tr>\n",
       "    <tr>\n",
       "      <th>4</th>\n",
       "      <td>4</td>\n",
       "      <td>8.55</td>\n",
       "      <td>2.87</td>\n",
       "      <td>1.11</td>\n",
       "      <td>0.902</td>\n",
       "      <td>G8III</td>\n",
       "    </tr>\n",
       "    <tr>\n",
       "      <th>...</th>\n",
       "      <td>...</td>\n",
       "      <td>...</td>\n",
       "      <td>...</td>\n",
       "      <td>...</td>\n",
       "      <td>...</td>\n",
       "      <td>...</td>\n",
       "    </tr>\n",
       "    <tr>\n",
       "      <th>99993</th>\n",
       "      <td>99993</td>\n",
       "      <td>7.92</td>\n",
       "      <td>3.93</td>\n",
       "      <td>1.24</td>\n",
       "      <td>0.133</td>\n",
       "      <td>Am...</td>\n",
       "    </tr>\n",
       "    <tr>\n",
       "      <th>99994</th>\n",
       "      <td>99994</td>\n",
       "      <td>8.72</td>\n",
       "      <td>3.07</td>\n",
       "      <td>0.87</td>\n",
       "      <td>0.097</td>\n",
       "      <td>B3</td>\n",
       "    </tr>\n",
       "    <tr>\n",
       "      <th>99996</th>\n",
       "      <td>99996</td>\n",
       "      <td>8.08</td>\n",
       "      <td>1.07</td>\n",
       "      <td>0.68</td>\n",
       "      <td>1.094</td>\n",
       "      <td>G5</td>\n",
       "    </tr>\n",
       "    <tr>\n",
       "      <th>99997</th>\n",
       "      <td>99997</td>\n",
       "      <td>6.98</td>\n",
       "      <td>2.97</td>\n",
       "      <td>0.76</td>\n",
       "      <td>-0.143</td>\n",
       "      <td>B1.5V</td>\n",
       "    </tr>\n",
       "    <tr>\n",
       "      <th>99998</th>\n",
       "      <td>99998</td>\n",
       "      <td>8.51</td>\n",
       "      <td>-1.18</td>\n",
       "      <td>1.34</td>\n",
       "      <td>1.568</td>\n",
       "      <td>K5/M0III</td>\n",
       "    </tr>\n",
       "  </tbody>\n",
       "</table>\n",
       "<p>96742 rows × 6 columns</p>\n",
       "</div>"
      ],
      "text/plain": [
       "       Unnamed: 0  Vmag    Plx  e_Plx    B-V    SpType\n",
       "0               0  9.10   3.54   1.39  0.482        F5\n",
       "1               1  9.27  21.90   3.10  0.999       K3V\n",
       "2               2  6.61   2.81   0.63 -0.019        B9\n",
       "3               3  8.06   7.75   0.97  0.370       F0V\n",
       "4               4  8.55   2.87   1.11  0.902     G8III\n",
       "...           ...   ...    ...    ...    ...       ...\n",
       "99993       99993  7.92   3.93   1.24  0.133     Am...\n",
       "99994       99994  8.72   3.07   0.87  0.097        B3\n",
       "99996       99996  8.08   1.07   0.68  1.094        G5\n",
       "99997       99997  6.98   2.97   0.76 -0.143     B1.5V\n",
       "99998       99998  8.51  -1.18   1.34  1.568  K5/M0III\n",
       "\n",
       "[96742 rows x 6 columns]"
      ]
     },
     "execution_count": 12,
     "metadata": {},
     "output_type": "execute_result"
    }
   ],
   "source": [
    "clean_stardf= stardf.dropna ()\n",
    "clean_stardf"
   ]
  },
  {
   "cell_type": "code",
   "execution_count": 13,
   "id": "d7a9eb13",
   "metadata": {},
   "outputs": [
    {
     "data": {
      "text/plain": [
       "3257"
      ]
     },
     "execution_count": 13,
     "metadata": {},
     "output_type": "execute_result"
    }
   ],
   "source": [
    "dropped=stardf.shape[0]-clean_stardf.shape[0]\n",
    "dropped"
   ]
  },
  {
   "cell_type": "code",
   "execution_count": 14,
   "id": "f07de082",
   "metadata": {},
   "outputs": [
    {
     "data": {
      "text/plain": [
       "3.257"
      ]
     },
     "execution_count": 14,
     "metadata": {},
     "output_type": "execute_result"
    }
   ],
   "source": [
    "totalpercentmissing= (dropped/100000)*100\n",
    "totalpercentmissing"
   ]
  },
  {
   "cell_type": "code",
   "execution_count": 15,
   "id": "20496c6c",
   "metadata": {},
   "outputs": [
    {
     "data": {
      "text/html": [
       "<div>\n",
       "<style scoped>\n",
       "    .dataframe tbody tr th:only-of-type {\n",
       "        vertical-align: middle;\n",
       "    }\n",
       "\n",
       "    .dataframe tbody tr th {\n",
       "        vertical-align: top;\n",
       "    }\n",
       "\n",
       "    .dataframe thead th {\n",
       "        text-align: right;\n",
       "    }\n",
       "</style>\n",
       "<table border=\"1\" class=\"dataframe\">\n",
       "  <thead>\n",
       "    <tr style=\"text-align: right;\">\n",
       "      <th></th>\n",
       "      <th>Vmag</th>\n",
       "      <th>Plx</th>\n",
       "      <th>e_Plx</th>\n",
       "      <th>B-V</th>\n",
       "      <th>SpType</th>\n",
       "    </tr>\n",
       "  </thead>\n",
       "  <tbody>\n",
       "    <tr>\n",
       "      <th>0</th>\n",
       "      <td>9.10</td>\n",
       "      <td>3.54</td>\n",
       "      <td>1.39</td>\n",
       "      <td>0.482</td>\n",
       "      <td>F5</td>\n",
       "    </tr>\n",
       "    <tr>\n",
       "      <th>1</th>\n",
       "      <td>9.27</td>\n",
       "      <td>21.90</td>\n",
       "      <td>3.10</td>\n",
       "      <td>0.999</td>\n",
       "      <td>K3V</td>\n",
       "    </tr>\n",
       "    <tr>\n",
       "      <th>2</th>\n",
       "      <td>6.61</td>\n",
       "      <td>2.81</td>\n",
       "      <td>0.63</td>\n",
       "      <td>-0.019</td>\n",
       "      <td>B9</td>\n",
       "    </tr>\n",
       "    <tr>\n",
       "      <th>3</th>\n",
       "      <td>8.06</td>\n",
       "      <td>7.75</td>\n",
       "      <td>0.97</td>\n",
       "      <td>0.370</td>\n",
       "      <td>F0V</td>\n",
       "    </tr>\n",
       "    <tr>\n",
       "      <th>4</th>\n",
       "      <td>8.55</td>\n",
       "      <td>2.87</td>\n",
       "      <td>1.11</td>\n",
       "      <td>0.902</td>\n",
       "      <td>G8III</td>\n",
       "    </tr>\n",
       "    <tr>\n",
       "      <th>...</th>\n",
       "      <td>...</td>\n",
       "      <td>...</td>\n",
       "      <td>...</td>\n",
       "      <td>...</td>\n",
       "      <td>...</td>\n",
       "    </tr>\n",
       "    <tr>\n",
       "      <th>99993</th>\n",
       "      <td>7.92</td>\n",
       "      <td>3.93</td>\n",
       "      <td>1.24</td>\n",
       "      <td>0.133</td>\n",
       "      <td>Am...</td>\n",
       "    </tr>\n",
       "    <tr>\n",
       "      <th>99994</th>\n",
       "      <td>8.72</td>\n",
       "      <td>3.07</td>\n",
       "      <td>0.87</td>\n",
       "      <td>0.097</td>\n",
       "      <td>B3</td>\n",
       "    </tr>\n",
       "    <tr>\n",
       "      <th>99996</th>\n",
       "      <td>8.08</td>\n",
       "      <td>1.07</td>\n",
       "      <td>0.68</td>\n",
       "      <td>1.094</td>\n",
       "      <td>G5</td>\n",
       "    </tr>\n",
       "    <tr>\n",
       "      <th>99997</th>\n",
       "      <td>6.98</td>\n",
       "      <td>2.97</td>\n",
       "      <td>0.76</td>\n",
       "      <td>-0.143</td>\n",
       "      <td>B1.5V</td>\n",
       "    </tr>\n",
       "    <tr>\n",
       "      <th>99998</th>\n",
       "      <td>8.51</td>\n",
       "      <td>-1.18</td>\n",
       "      <td>1.34</td>\n",
       "      <td>1.568</td>\n",
       "      <td>K5/M0III</td>\n",
       "    </tr>\n",
       "  </tbody>\n",
       "</table>\n",
       "<p>96742 rows × 5 columns</p>\n",
       "</div>"
      ],
      "text/plain": [
       "       Vmag    Plx  e_Plx    B-V    SpType\n",
       "0      9.10   3.54   1.39  0.482        F5\n",
       "1      9.27  21.90   3.10  0.999       K3V\n",
       "2      6.61   2.81   0.63 -0.019        B9\n",
       "3      8.06   7.75   0.97  0.370       F0V\n",
       "4      8.55   2.87   1.11  0.902     G8III\n",
       "...     ...    ...    ...    ...       ...\n",
       "99993  7.92   3.93   1.24  0.133     Am...\n",
       "99994  8.72   3.07   0.87  0.097        B3\n",
       "99996  8.08   1.07   0.68  1.094        G5\n",
       "99997  6.98   2.97   0.76 -0.143     B1.5V\n",
       "99998  8.51  -1.18   1.34  1.568  K5/M0III\n",
       "\n",
       "[96742 rows x 5 columns]"
      ]
     },
     "execution_count": 15,
     "metadata": {},
     "output_type": "execute_result"
    }
   ],
   "source": [
    "clean_stardf= clean_stardf. drop('Unnamed: 0', axis=1)\n",
    "clean_stardf"
   ]
  },
  {
   "cell_type": "code",
   "execution_count": 16,
   "id": "ba0d3ebc",
   "metadata": {},
   "outputs": [],
   "source": [
    "clean_stardf=clean_stardf.reset_index(drop=True)"
   ]
  },
  {
   "cell_type": "code",
   "execution_count": 17,
   "id": "aee504f4",
   "metadata": {},
   "outputs": [
    {
     "data": {
      "text/html": [
       "<div>\n",
       "<style scoped>\n",
       "    .dataframe tbody tr th:only-of-type {\n",
       "        vertical-align: middle;\n",
       "    }\n",
       "\n",
       "    .dataframe tbody tr th {\n",
       "        vertical-align: top;\n",
       "    }\n",
       "\n",
       "    .dataframe thead th {\n",
       "        text-align: right;\n",
       "    }\n",
       "</style>\n",
       "<table border=\"1\" class=\"dataframe\">\n",
       "  <thead>\n",
       "    <tr style=\"text-align: right;\">\n",
       "      <th></th>\n",
       "      <th>Vmag</th>\n",
       "      <th>Plx</th>\n",
       "      <th>e_Plx</th>\n",
       "      <th>B-V</th>\n",
       "      <th>SpType</th>\n",
       "    </tr>\n",
       "  </thead>\n",
       "  <tbody>\n",
       "    <tr>\n",
       "      <th>0</th>\n",
       "      <td>9.10</td>\n",
       "      <td>3.54</td>\n",
       "      <td>1.39</td>\n",
       "      <td>0.482</td>\n",
       "      <td>F5</td>\n",
       "    </tr>\n",
       "    <tr>\n",
       "      <th>1</th>\n",
       "      <td>9.27</td>\n",
       "      <td>21.90</td>\n",
       "      <td>3.10</td>\n",
       "      <td>0.999</td>\n",
       "      <td>K3V</td>\n",
       "    </tr>\n",
       "    <tr>\n",
       "      <th>2</th>\n",
       "      <td>6.61</td>\n",
       "      <td>2.81</td>\n",
       "      <td>0.63</td>\n",
       "      <td>-0.019</td>\n",
       "      <td>B9</td>\n",
       "    </tr>\n",
       "    <tr>\n",
       "      <th>3</th>\n",
       "      <td>8.06</td>\n",
       "      <td>7.75</td>\n",
       "      <td>0.97</td>\n",
       "      <td>0.370</td>\n",
       "      <td>F0V</td>\n",
       "    </tr>\n",
       "    <tr>\n",
       "      <th>4</th>\n",
       "      <td>8.55</td>\n",
       "      <td>2.87</td>\n",
       "      <td>1.11</td>\n",
       "      <td>0.902</td>\n",
       "      <td>G8III</td>\n",
       "    </tr>\n",
       "    <tr>\n",
       "      <th>...</th>\n",
       "      <td>...</td>\n",
       "      <td>...</td>\n",
       "      <td>...</td>\n",
       "      <td>...</td>\n",
       "      <td>...</td>\n",
       "    </tr>\n",
       "    <tr>\n",
       "      <th>96737</th>\n",
       "      <td>7.92</td>\n",
       "      <td>3.93</td>\n",
       "      <td>1.24</td>\n",
       "      <td>0.133</td>\n",
       "      <td>Am...</td>\n",
       "    </tr>\n",
       "    <tr>\n",
       "      <th>96738</th>\n",
       "      <td>8.72</td>\n",
       "      <td>3.07</td>\n",
       "      <td>0.87</td>\n",
       "      <td>0.097</td>\n",
       "      <td>B3</td>\n",
       "    </tr>\n",
       "    <tr>\n",
       "      <th>96739</th>\n",
       "      <td>8.08</td>\n",
       "      <td>1.07</td>\n",
       "      <td>0.68</td>\n",
       "      <td>1.094</td>\n",
       "      <td>G5</td>\n",
       "    </tr>\n",
       "    <tr>\n",
       "      <th>96740</th>\n",
       "      <td>6.98</td>\n",
       "      <td>2.97</td>\n",
       "      <td>0.76</td>\n",
       "      <td>-0.143</td>\n",
       "      <td>B1.5V</td>\n",
       "    </tr>\n",
       "    <tr>\n",
       "      <th>96741</th>\n",
       "      <td>8.51</td>\n",
       "      <td>-1.18</td>\n",
       "      <td>1.34</td>\n",
       "      <td>1.568</td>\n",
       "      <td>K5/M0III</td>\n",
       "    </tr>\n",
       "  </tbody>\n",
       "</table>\n",
       "<p>96742 rows × 5 columns</p>\n",
       "</div>"
      ],
      "text/plain": [
       "       Vmag    Plx  e_Plx    B-V    SpType\n",
       "0      9.10   3.54   1.39  0.482        F5\n",
       "1      9.27  21.90   3.10  0.999       K3V\n",
       "2      6.61   2.81   0.63 -0.019        B9\n",
       "3      8.06   7.75   0.97  0.370       F0V\n",
       "4      8.55   2.87   1.11  0.902     G8III\n",
       "...     ...    ...    ...    ...       ...\n",
       "96737  7.92   3.93   1.24  0.133     Am...\n",
       "96738  8.72   3.07   0.87  0.097        B3\n",
       "96739  8.08   1.07   0.68  1.094        G5\n",
       "96740  6.98   2.97   0.76 -0.143     B1.5V\n",
       "96741  8.51  -1.18   1.34  1.568  K5/M0III\n",
       "\n",
       "[96742 rows x 5 columns]"
      ]
     },
     "execution_count": 17,
     "metadata": {},
     "output_type": "execute_result"
    }
   ],
   "source": [
    "clean_stardf"
   ]
  },
  {
   "cell_type": "code",
   "execution_count": 18,
   "id": "8d6b0897",
   "metadata": {},
   "outputs": [
    {
     "name": "stdout",
     "output_type": "stream",
     "text": [
      "<class 'pandas.core.frame.DataFrame'>\n",
      "RangeIndex: 96742 entries, 0 to 96741\n",
      "Data columns (total 5 columns):\n",
      " #   Column  Non-Null Count  Dtype  \n",
      "---  ------  --------------  -----  \n",
      " 0   Vmag    96742 non-null  float32\n",
      " 1   Plx     96742 non-null  float32\n",
      " 2   e_Plx   96742 non-null  float32\n",
      " 3   B-V     96742 non-null  float32\n",
      " 4   SpType  96742 non-null  object \n",
      "dtypes: float32(4), object(1)\n",
      "memory usage: 2.2+ MB\n"
     ]
    }
   ],
   "source": [
    "clean_stardf.info ()"
   ]
  },
  {
   "cell_type": "code",
   "execution_count": 19,
   "id": "b5b47c70",
   "metadata": {},
   "outputs": [],
   "source": [
    "clean_stardf.to_csv(\"big_clean_stars.csv\", index=False)"
   ]
  },
  {
   "cell_type": "code",
   "execution_count": null,
   "id": "90d424bb",
   "metadata": {},
   "outputs": [],
   "source": []
  }
 ],
 "metadata": {
  "kernelspec": {
   "display_name": "Python 3 (ipykernel)",
   "language": "python",
   "name": "python3"
  },
  "language_info": {
   "codemirror_mode": {
    "name": "ipython",
    "version": 3
   },
   "file_extension": ".py",
   "mimetype": "text/x-python",
   "name": "python",
   "nbconvert_exporter": "python",
   "pygments_lexer": "ipython3",
   "version": "3.9.12"
  }
 },
 "nbformat": 4,
 "nbformat_minor": 5
}
