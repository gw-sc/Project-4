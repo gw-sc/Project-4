{
 "cells": [
  {
   "cell_type": "code",
   "execution_count": 73,
   "id": "8583b184",
   "metadata": {},
   "outputs": [],
   "source": [
    "import numpy as np\n",
    "import pandas as pd\n",
    "from pathlib import Path\n",
    "from sklearn.model_selection import train_test_split\n",
    "from sklearn.linear_model import LogisticRegression\n",
    "from sklearn.ensemble import RandomForestClassifier,RandomForestRegressor\n",
    "from sklearn.preprocessing import StandardScaler\n",
    "from sklearn.metrics import classification_report, confusion_matrix\n",
    "import matplotlib.pyplot as plt\n",
    "import seaborn as sns\n",
    "from sklearn.model_selection import train_test_split\n",
    "from sklearn.neighbors import KNeighborsClassifier\n",
    "from sklearn.svm import SVC\n",
    "from sklearn.linear_model import LogisticRegression"
   ]
  },
  {
   "cell_type": "code",
   "execution_count": 74,
   "id": "6d9b6f36",
   "metadata": {},
   "outputs": [
    {
     "data": {
      "text/html": [
       "<div>\n",
       "<style scoped>\n",
       "    .dataframe tbody tr th:only-of-type {\n",
       "        vertical-align: middle;\n",
       "    }\n",
       "\n",
       "    .dataframe tbody tr th {\n",
       "        vertical-align: top;\n",
       "    }\n",
       "\n",
       "    .dataframe thead th {\n",
       "        text-align: right;\n",
       "    }\n",
       "</style>\n",
       "<table border=\"1\" class=\"dataframe\">\n",
       "  <thead>\n",
       "    <tr style=\"text-align: right;\">\n",
       "      <th></th>\n",
       "      <th>Vmag</th>\n",
       "      <th>Plx</th>\n",
       "      <th>e_Plx</th>\n",
       "      <th>B-V</th>\n",
       "      <th>Amag</th>\n",
       "      <th>TargetClass</th>\n",
       "    </tr>\n",
       "  </thead>\n",
       "  <tbody>\n",
       "    <tr>\n",
       "      <th>0</th>\n",
       "      <td>9.10</td>\n",
       "      <td>3.54</td>\n",
       "      <td>1.39</td>\n",
       "      <td>0.482</td>\n",
       "      <td>16.845016</td>\n",
       "      <td>3</td>\n",
       "    </tr>\n",
       "    <tr>\n",
       "      <th>1</th>\n",
       "      <td>9.27</td>\n",
       "      <td>21.90</td>\n",
       "      <td>3.10</td>\n",
       "      <td>0.999</td>\n",
       "      <td>20.972221</td>\n",
       "      <td>5</td>\n",
       "    </tr>\n",
       "    <tr>\n",
       "      <th>2</th>\n",
       "      <td>6.61</td>\n",
       "      <td>2.81</td>\n",
       "      <td>0.63</td>\n",
       "      <td>-0.019</td>\n",
       "      <td>13.853532</td>\n",
       "      <td>1</td>\n",
       "    </tr>\n",
       "    <tr>\n",
       "      <th>3</th>\n",
       "      <td>8.06</td>\n",
       "      <td>7.75</td>\n",
       "      <td>0.97</td>\n",
       "      <td>0.370</td>\n",
       "      <td>17.506509</td>\n",
       "      <td>3</td>\n",
       "    </tr>\n",
       "    <tr>\n",
       "      <th>4</th>\n",
       "      <td>8.55</td>\n",
       "      <td>2.87</td>\n",
       "      <td>1.11</td>\n",
       "      <td>0.902</td>\n",
       "      <td>15.839409</td>\n",
       "      <td>4</td>\n",
       "    </tr>\n",
       "    <tr>\n",
       "      <th>5</th>\n",
       "      <td>12.31</td>\n",
       "      <td>18.80</td>\n",
       "      <td>4.99</td>\n",
       "      <td>1.336</td>\n",
       "      <td>23.680789</td>\n",
       "      <td>6</td>\n",
       "    </tr>\n",
       "    <tr>\n",
       "      <th>6</th>\n",
       "      <td>9.64</td>\n",
       "      <td>17.74</td>\n",
       "      <td>1.30</td>\n",
       "      <td>0.740</td>\n",
       "      <td>20.884768</td>\n",
       "      <td>4</td>\n",
       "    </tr>\n",
       "  </tbody>\n",
       "</table>\n",
       "</div>"
      ],
      "text/plain": [
       "    Vmag    Plx  e_Plx    B-V       Amag  TargetClass\n",
       "0   9.10   3.54   1.39  0.482  16.845016            3\n",
       "1   9.27  21.90   3.10  0.999  20.972221            5\n",
       "2   6.61   2.81   0.63 -0.019  13.853532            1\n",
       "3   8.06   7.75   0.97  0.370  17.506509            3\n",
       "4   8.55   2.87   1.11  0.902  15.839409            4\n",
       "5  12.31  18.80   4.99  1.336  23.680789            6\n",
       "6   9.64  17.74   1.30  0.740  20.884768            4"
      ]
     },
     "execution_count": 74,
     "metadata": {},
     "output_type": "execute_result"
    }
   ],
   "source": [
    "stardf = pd.read_csv(\"..//TG_stars.csv\")\n",
    "stardf.head (7)"
   ]
  },
  {
   "cell_type": "code",
   "execution_count": 75,
   "id": "b4aafedd",
   "metadata": {},
   "outputs": [
    {
     "data": {
      "text/html": [
       "<div>\n",
       "<style scoped>\n",
       "    .dataframe tbody tr th:only-of-type {\n",
       "        vertical-align: middle;\n",
       "    }\n",
       "\n",
       "    .dataframe tbody tr th {\n",
       "        vertical-align: top;\n",
       "    }\n",
       "\n",
       "    .dataframe thead th {\n",
       "        text-align: right;\n",
       "    }\n",
       "</style>\n",
       "<table border=\"1\" class=\"dataframe\">\n",
       "  <thead>\n",
       "    <tr style=\"text-align: right;\">\n",
       "      <th></th>\n",
       "      <th>Vmag</th>\n",
       "      <th>Plx</th>\n",
       "      <th>e_Plx</th>\n",
       "      <th>B-V</th>\n",
       "      <th>Amag</th>\n",
       "      <th>TargetClass</th>\n",
       "      <th>Amag_SQ</th>\n",
       "      <th>Vmag_SQ</th>\n",
       "      <th>B-V_SQ</th>\n",
       "      <th>Plx_SQ</th>\n",
       "    </tr>\n",
       "  </thead>\n",
       "  <tbody>\n",
       "    <tr>\n",
       "      <th>0</th>\n",
       "      <td>9.10</td>\n",
       "      <td>3.54</td>\n",
       "      <td>1.39</td>\n",
       "      <td>0.482</td>\n",
       "      <td>16.845016</td>\n",
       "      <td>3</td>\n",
       "      <td>283.754574</td>\n",
       "      <td>82.8100</td>\n",
       "      <td>0.232324</td>\n",
       "      <td>12.5316</td>\n",
       "    </tr>\n",
       "    <tr>\n",
       "      <th>1</th>\n",
       "      <td>9.27</td>\n",
       "      <td>21.90</td>\n",
       "      <td>3.10</td>\n",
       "      <td>0.999</td>\n",
       "      <td>20.972221</td>\n",
       "      <td>5</td>\n",
       "      <td>439.834036</td>\n",
       "      <td>85.9329</td>\n",
       "      <td>0.998001</td>\n",
       "      <td>479.6100</td>\n",
       "    </tr>\n",
       "    <tr>\n",
       "      <th>2</th>\n",
       "      <td>6.61</td>\n",
       "      <td>2.81</td>\n",
       "      <td>0.63</td>\n",
       "      <td>-0.019</td>\n",
       "      <td>13.853532</td>\n",
       "      <td>1</td>\n",
       "      <td>191.920338</td>\n",
       "      <td>43.6921</td>\n",
       "      <td>0.000361</td>\n",
       "      <td>7.8961</td>\n",
       "    </tr>\n",
       "    <tr>\n",
       "      <th>3</th>\n",
       "      <td>8.06</td>\n",
       "      <td>7.75</td>\n",
       "      <td>0.97</td>\n",
       "      <td>0.370</td>\n",
       "      <td>17.506509</td>\n",
       "      <td>3</td>\n",
       "      <td>306.477840</td>\n",
       "      <td>64.9636</td>\n",
       "      <td>0.136900</td>\n",
       "      <td>60.0625</td>\n",
       "    </tr>\n",
       "    <tr>\n",
       "      <th>4</th>\n",
       "      <td>8.55</td>\n",
       "      <td>2.87</td>\n",
       "      <td>1.11</td>\n",
       "      <td>0.902</td>\n",
       "      <td>15.839409</td>\n",
       "      <td>4</td>\n",
       "      <td>250.886893</td>\n",
       "      <td>73.1025</td>\n",
       "      <td>0.813604</td>\n",
       "      <td>8.2369</td>\n",
       "    </tr>\n",
       "  </tbody>\n",
       "</table>\n",
       "</div>"
      ],
      "text/plain": [
       "   Vmag    Plx  e_Plx    B-V       Amag  TargetClass     Amag_SQ  Vmag_SQ  \\\n",
       "0  9.10   3.54   1.39  0.482  16.845016            3  283.754574  82.8100   \n",
       "1  9.27  21.90   3.10  0.999  20.972221            5  439.834036  85.9329   \n",
       "2  6.61   2.81   0.63 -0.019  13.853532            1  191.920338  43.6921   \n",
       "3  8.06   7.75   0.97  0.370  17.506509            3  306.477840  64.9636   \n",
       "4  8.55   2.87   1.11  0.902  15.839409            4  250.886893  73.1025   \n",
       "\n",
       "     B-V_SQ    Plx_SQ  \n",
       "0  0.232324   12.5316  \n",
       "1  0.998001  479.6100  \n",
       "2  0.000361    7.8961  \n",
       "3  0.136900   60.0625  \n",
       "4  0.813604    8.2369  "
      ]
     },
     "execution_count": 75,
     "metadata": {},
     "output_type": "execute_result"
    }
   ],
   "source": [
    "stars_df_features = stardf.copy()\n",
    "\n",
    "stars_df_features['Amag_SQ'] = stars_df_features['Amag']**2\n",
    "stars_df_features['Vmag_SQ'] = stars_df_features['Vmag']**2\n",
    "stars_df_features['B-V_SQ'] = stars_df_features['B-V']**2\n",
    "stars_df_features['Plx_SQ'] = stars_df_features['Plx']**2\n",
    "#stars_df_features['Sum_AV'] = stars_df_features['Amag'] + stars_df_features['Vmag']\n",
    "#stars_df_features['Sub_AV'] = stars_df_features['Amag'] + stars_df_features['Vmag']\n",
    "\n",
    "stars_df_features.head()"
   ]
  },
  {
   "cell_type": "code",
   "execution_count": 76,
   "id": "28a95dca",
   "metadata": {},
   "outputs": [
    {
     "name": "stdout",
     "output_type": "stream",
     "text": [
      "<class 'pandas.core.frame.DataFrame'>\n",
      "RangeIndex: 9677 entries, 0 to 9676\n",
      "Data columns (total 10 columns):\n",
      " #   Column       Non-Null Count  Dtype  \n",
      "---  ------       --------------  -----  \n",
      " 0   Vmag         9677 non-null   float64\n",
      " 1   Plx          9677 non-null   float64\n",
      " 2   e_Plx        9677 non-null   float64\n",
      " 3   B-V          9677 non-null   float64\n",
      " 4   Amag         9677 non-null   float64\n",
      " 5   TargetClass  9677 non-null   int64  \n",
      " 6   Amag_SQ      9677 non-null   float64\n",
      " 7   Vmag_SQ      9677 non-null   float64\n",
      " 8   B-V_SQ       9677 non-null   float64\n",
      " 9   Plx_SQ       9677 non-null   float64\n",
      "dtypes: float64(9), int64(1)\n",
      "memory usage: 756.1 KB\n"
     ]
    }
   ],
   "source": [
    "stars_df_features.info ()"
   ]
  },
  {
   "cell_type": "code",
   "execution_count": 77,
   "id": "f17214a5",
   "metadata": {},
   "outputs": [],
   "source": [
    "df_zero = stars_df_features[stars_df_features.TargetClass == 0]\n",
    "df_one = stars_df_features[stars_df_features.TargetClass == 1]\n",
    "df_two = stars_df_features[stars_df_features.TargetClass == 2]\n",
    "df_three = stars_df_features[stars_df_features.TargetClass == 3]\n",
    "df_four = stars_df_features[stars_df_features.TargetClass == 4]\n",
    "df_five = stars_df_features[stars_df_features.TargetClass == 5]\n",
    "df_six = stars_df_features[stars_df_features.TargetClass == 6]\n",
    "df_seven = stars_df_features[stars_df_features.TargetClass == 7]"
   ]
  },
  {
   "cell_type": "code",
   "execution_count": 78,
   "id": "c3ef0583",
   "metadata": {},
   "outputs": [
    {
     "name": "stdout",
     "output_type": "stream",
     "text": [
      "0: 10\n",
      "1: 559\n",
      "2 : 1285\n",
      "3 : 2457\n",
      "4 : 2178\n",
      "5 : 2733\n",
      "6 : 433\n",
      "6: 22\n"
     ]
    }
   ],
   "source": [
    "num_of_zero=df_zero.shape[0]\n",
    "num_of_one = df_one.shape[0]\n",
    "num_of_two = df_two.shape[0]\n",
    "num_of_three = df_three.shape[0]\n",
    "num_of_four = df_four.shape[0]\n",
    "num_of_five = df_five.shape[0]\n",
    "num_of_six = df_six.shape[0]\n",
    "num_of_seven = df_seven.shape[0]\n",
    "print(\"0:\",num_of_zero)\n",
    "print(\"1:\",num_of_one)\n",
    "print(\"2 :\",num_of_two)\n",
    "print(\"3 :\",num_of_three)\n",
    "print(\"4 :\",num_of_four)\n",
    "print(\"5 :\",num_of_five)\n",
    "print(\"6 :\",num_of_six)\n",
    "print(\"6:\", num_of_seven)"
   ]
  },
  {
   "cell_type": "code",
   "execution_count": 79,
   "id": "d62e2755",
   "metadata": {},
   "outputs": [],
   "source": [
    "from sklearn.utils import resample"
   ]
  },
  {
   "cell_type": "code",
   "execution_count": 80,
   "id": "0b0aa014",
   "metadata": {},
   "outputs": [],
   "source": [
    "# group 3 from rfc_model-copy2 had the greatest f1 score? If I increase all units to targetclass 3 will his hold for all?"
   ]
  },
  {
   "cell_type": "code",
   "execution_count": 81,
   "id": "4dc8d8ff",
   "metadata": {},
   "outputs": [],
   "source": [
    "df_zero_upsampled = resample(df_zero, \n",
    "                                 replace=True,    \n",
    "                                 n_samples=num_of_three,    \n",
    "                                 random_state=1) \n",
    "df_one_upsampled = resample(df_one, \n",
    "                                 replace=True,    \n",
    "                                 n_samples=num_of_three,    \n",
    "                                 random_state=1) \n",
    "df_two_upsampled = resample(df_three, \n",
    "                                 replace=True,    \n",
    "                                 n_samples=num_of_three,     \n",
    "                                 random_state=1) \n",
    "df_four_upsampled = resample(df_four, \n",
    "                                 replace=True,    \n",
    "                                 n_samples=num_of_three,     \n",
    "                                 random_state=1) \n",
    "df_five_upsampled = resample(df_five, \n",
    "                                 replace=True,    \n",
    "                                 n_samples=num_of_three,     \n",
    "                                 random_state=1) \n",
    "df_six_upsampled = resample(df_six, \n",
    "                                 replace=True,    \n",
    "                                 n_samples=num_of_three,     \n",
    "                                 random_state=1) \n",
    "df_seven_upsampled = resample(df_seven, \n",
    "                                 replace=True,    \n",
    "                                 n_samples=num_of_three,     \n",
    "                                 random_state=1) "
   ]
  },
  {
   "cell_type": "code",
   "execution_count": 82,
   "id": "970e5f2a",
   "metadata": {},
   "outputs": [],
   "source": [
    "stardf_resampled1 = pd.concat([df_zero_upsampled, df_one_upsampled])\n",
    "stardf_resampled2 = pd.concat([stardf_resampled1, df_two_upsampled])\n",
    "stardf_resampled3 = pd.concat([stardf_resampled2, df_four_upsampled])\n",
    "stardf_resampled4 = pd.concat([stardf_resampled3, df_five_upsampled])\n",
    "stardf_resampled5 = pd.concat([stardf_resampled4, df_six_upsampled])\n",
    "stardf_resampled = pd.concat([stardf_resampled5, df_seven_upsampled])"
   ]
  },
  {
   "cell_type": "code",
   "execution_count": 83,
   "id": "4d12682d",
   "metadata": {},
   "outputs": [
    {
     "data": {
      "text/html": [
       "<div>\n",
       "<style scoped>\n",
       "    .dataframe tbody tr th:only-of-type {\n",
       "        vertical-align: middle;\n",
       "    }\n",
       "\n",
       "    .dataframe tbody tr th {\n",
       "        vertical-align: top;\n",
       "    }\n",
       "\n",
       "    .dataframe thead th {\n",
       "        text-align: right;\n",
       "    }\n",
       "</style>\n",
       "<table border=\"1\" class=\"dataframe\">\n",
       "  <thead>\n",
       "    <tr style=\"text-align: right;\">\n",
       "      <th></th>\n",
       "      <th>Vmag</th>\n",
       "      <th>Plx</th>\n",
       "      <th>e_Plx</th>\n",
       "      <th>B-V</th>\n",
       "      <th>Amag</th>\n",
       "      <th>TargetClass</th>\n",
       "      <th>Amag_SQ</th>\n",
       "      <th>Vmag_SQ</th>\n",
       "      <th>B-V_SQ</th>\n",
       "      <th>Plx_SQ</th>\n",
       "    </tr>\n",
       "  </thead>\n",
       "  <tbody>\n",
       "    <tr>\n",
       "      <th>6623</th>\n",
       "      <td>8.72</td>\n",
       "      <td>0.80</td>\n",
       "      <td>1.58</td>\n",
       "      <td>0.390</td>\n",
       "      <td>13.235450</td>\n",
       "      <td>0</td>\n",
       "      <td>175.177135</td>\n",
       "      <td>76.0384</td>\n",
       "      <td>0.152100</td>\n",
       "      <td>0.6400</td>\n",
       "    </tr>\n",
       "    <tr>\n",
       "      <th>8907</th>\n",
       "      <td>10.01</td>\n",
       "      <td>4.08</td>\n",
       "      <td>1.40</td>\n",
       "      <td>-0.280</td>\n",
       "      <td>18.063301</td>\n",
       "      <td>0</td>\n",
       "      <td>326.282836</td>\n",
       "      <td>100.2001</td>\n",
       "      <td>0.078400</td>\n",
       "      <td>16.6464</td>\n",
       "    </tr>\n",
       "    <tr>\n",
       "      <th>9205</th>\n",
       "      <td>8.94</td>\n",
       "      <td>-0.32</td>\n",
       "      <td>1.13</td>\n",
       "      <td>-0.054</td>\n",
       "      <td>11.465750</td>\n",
       "      <td>0</td>\n",
       "      <td>131.463421</td>\n",
       "      <td>79.9236</td>\n",
       "      <td>0.002916</td>\n",
       "      <td>0.1024</td>\n",
       "    </tr>\n",
       "    <tr>\n",
       "      <th>6623</th>\n",
       "      <td>8.72</td>\n",
       "      <td>0.80</td>\n",
       "      <td>1.58</td>\n",
       "      <td>0.390</td>\n",
       "      <td>13.235450</td>\n",
       "      <td>0</td>\n",
       "      <td>175.177135</td>\n",
       "      <td>76.0384</td>\n",
       "      <td>0.152100</td>\n",
       "      <td>0.6400</td>\n",
       "    </tr>\n",
       "    <tr>\n",
       "      <th>165</th>\n",
       "      <td>9.05</td>\n",
       "      <td>1.27</td>\n",
       "      <td>1.11</td>\n",
       "      <td>0.976</td>\n",
       "      <td>14.569019</td>\n",
       "      <td>0</td>\n",
       "      <td>212.256303</td>\n",
       "      <td>81.9025</td>\n",
       "      <td>0.952576</td>\n",
       "      <td>1.6129</td>\n",
       "    </tr>\n",
       "    <tr>\n",
       "      <th>...</th>\n",
       "      <td>...</td>\n",
       "      <td>...</td>\n",
       "      <td>...</td>\n",
       "      <td>...</td>\n",
       "      <td>...</td>\n",
       "      <td>...</td>\n",
       "      <td>...</td>\n",
       "      <td>...</td>\n",
       "      <td>...</td>\n",
       "      <td>...</td>\n",
       "    </tr>\n",
       "    <tr>\n",
       "      <th>4142</th>\n",
       "      <td>9.60</td>\n",
       "      <td>-0.17</td>\n",
       "      <td>1.61</td>\n",
       "      <td>2.700</td>\n",
       "      <td>10.752245</td>\n",
       "      <td>7</td>\n",
       "      <td>115.610764</td>\n",
       "      <td>92.1600</td>\n",
       "      <td>7.290000</td>\n",
       "      <td>0.0289</td>\n",
       "    </tr>\n",
       "    <tr>\n",
       "      <th>93</th>\n",
       "      <td>7.04</td>\n",
       "      <td>1.27</td>\n",
       "      <td>0.70</td>\n",
       "      <td>2.835</td>\n",
       "      <td>12.559019</td>\n",
       "      <td>7</td>\n",
       "      <td>157.728948</td>\n",
       "      <td>49.5616</td>\n",
       "      <td>8.037225</td>\n",
       "      <td>1.6129</td>\n",
       "    </tr>\n",
       "    <tr>\n",
       "      <th>4930</th>\n",
       "      <td>11.16</td>\n",
       "      <td>5.46</td>\n",
       "      <td>6.54</td>\n",
       "      <td>0.264</td>\n",
       "      <td>19.845963</td>\n",
       "      <td>7</td>\n",
       "      <td>393.862256</td>\n",
       "      <td>124.5456</td>\n",
       "      <td>0.069696</td>\n",
       "      <td>29.8116</td>\n",
       "    </tr>\n",
       "    <tr>\n",
       "      <th>3307</th>\n",
       "      <td>10.11</td>\n",
       "      <td>-1.09</td>\n",
       "      <td>1.52</td>\n",
       "      <td>0.401</td>\n",
       "      <td>15.297132</td>\n",
       "      <td>7</td>\n",
       "      <td>234.002262</td>\n",
       "      <td>102.2121</td>\n",
       "      <td>0.160801</td>\n",
       "      <td>1.1881</td>\n",
       "    </tr>\n",
       "    <tr>\n",
       "      <th>2049</th>\n",
       "      <td>9.52</td>\n",
       "      <td>10.27</td>\n",
       "      <td>1.08</td>\n",
       "      <td>0.735</td>\n",
       "      <td>19.577852</td>\n",
       "      <td>7</td>\n",
       "      <td>383.292297</td>\n",
       "      <td>90.6304</td>\n",
       "      <td>0.540225</td>\n",
       "      <td>105.4729</td>\n",
       "    </tr>\n",
       "  </tbody>\n",
       "</table>\n",
       "<p>17199 rows × 10 columns</p>\n",
       "</div>"
      ],
      "text/plain": [
       "       Vmag    Plx  e_Plx    B-V       Amag  TargetClass     Amag_SQ  \\\n",
       "6623   8.72   0.80   1.58  0.390  13.235450            0  175.177135   \n",
       "8907  10.01   4.08   1.40 -0.280  18.063301            0  326.282836   \n",
       "9205   8.94  -0.32   1.13 -0.054  11.465750            0  131.463421   \n",
       "6623   8.72   0.80   1.58  0.390  13.235450            0  175.177135   \n",
       "165    9.05   1.27   1.11  0.976  14.569019            0  212.256303   \n",
       "...     ...    ...    ...    ...        ...          ...         ...   \n",
       "4142   9.60  -0.17   1.61  2.700  10.752245            7  115.610764   \n",
       "93     7.04   1.27   0.70  2.835  12.559019            7  157.728948   \n",
       "4930  11.16   5.46   6.54  0.264  19.845963            7  393.862256   \n",
       "3307  10.11  -1.09   1.52  0.401  15.297132            7  234.002262   \n",
       "2049   9.52  10.27   1.08  0.735  19.577852            7  383.292297   \n",
       "\n",
       "       Vmag_SQ    B-V_SQ    Plx_SQ  \n",
       "6623   76.0384  0.152100    0.6400  \n",
       "8907  100.2001  0.078400   16.6464  \n",
       "9205   79.9236  0.002916    0.1024  \n",
       "6623   76.0384  0.152100    0.6400  \n",
       "165    81.9025  0.952576    1.6129  \n",
       "...        ...       ...       ...  \n",
       "4142   92.1600  7.290000    0.0289  \n",
       "93     49.5616  8.037225    1.6129  \n",
       "4930  124.5456  0.069696   29.8116  \n",
       "3307  102.2121  0.160801    1.1881  \n",
       "2049   90.6304  0.540225  105.4729  \n",
       "\n",
       "[17199 rows x 10 columns]"
      ]
     },
     "execution_count": 83,
     "metadata": {},
     "output_type": "execute_result"
    }
   ],
   "source": [
    "stardf_resampled"
   ]
  },
  {
   "cell_type": "code",
   "execution_count": 84,
   "id": "5c219a29",
   "metadata": {},
   "outputs": [],
   "source": [
    "X = stardf_resampled.drop('TargetClass', axis=1, inplace=False)\n",
    "Y = stardf_resampled['TargetClass']\n",
    "X_train, X_test, Y_train, Y_test = train_test_split(X,Y, test_size = 0.20, random_state=21, stratify=Y)"
   ]
  },
  {
   "cell_type": "code",
   "execution_count": 85,
   "id": "c8b7abb3",
   "metadata": {},
   "outputs": [],
   "source": [
    "#n_neigh = 12\n",
    "#K_best = 0\n",
    "#Score_best = 0\n",
    "\n",
    "#for i in range(1,n_neigh):\n",
    "   # KNN = KNeighborsClassifier(n_neighbors=i)\n",
    "    #KNN.fit(X_train,Y_train)\n",
    "    #Y_pred = KNN.predict(X_test)\n",
    "    #if KNN.score(X_test,Y_test) > Score_best:\n",
    "      #  Score_best = KNN.score(X_test,Y_test)\n",
    "       # K_best = i\n",
    "#print(\"neighbors is {} with a test accuracy of {}%\"\"\".format(K_best, (Score_best*100)))\n",
    "#neighbors is 10 with a test accuracy of 52.01446280991735%"
   ]
  },
  {
   "cell_type": "code",
   "execution_count": 86,
   "id": "75030521",
   "metadata": {},
   "outputs": [
    {
     "data": {
      "text/plain": [
       "1    492\n",
       "5    492\n",
       "0    492\n",
       "3    491\n",
       "6    491\n",
       "4    491\n",
       "7    491\n",
       "Name: TargetClass, dtype: int64"
      ]
     },
     "execution_count": 86,
     "metadata": {},
     "output_type": "execute_result"
    }
   ],
   "source": [
    "Y_test.value_counts()"
   ]
  },
  {
   "cell_type": "code",
   "execution_count": 87,
   "id": "16a6380a",
   "metadata": {},
   "outputs": [
    {
     "data": {
      "text/plain": [
       "3440"
      ]
     },
     "execution_count": 87,
     "metadata": {},
     "output_type": "execute_result"
    }
   ],
   "source": [
    "Y_test.count ()"
   ]
  },
  {
   "cell_type": "code",
   "execution_count": 88,
   "id": "031a15f0",
   "metadata": {},
   "outputs": [],
   "source": [
    "import warnings\n",
    "warnings.filterwarnings(\"ignore\")"
   ]
  },
  {
   "cell_type": "code",
   "execution_count": 89,
   "id": "acc42c86",
   "metadata": {},
   "outputs": [
    {
     "data": {
      "text/plain": [
       "7    1966\n",
       "6    1966\n",
       "4    1966\n",
       "3    1966\n",
       "0    1965\n",
       "1    1965\n",
       "5    1965\n",
       "Name: TargetClass, dtype: int64"
      ]
     },
     "execution_count": 89,
     "metadata": {},
     "output_type": "execute_result"
    }
   ],
   "source": [
    "Y_train.value_counts()"
   ]
  },
  {
   "cell_type": "code",
   "execution_count": 90,
   "id": "8109b27c",
   "metadata": {},
   "outputs": [],
   "source": [
    "from sklearn.metrics import classification_report, accuracy_score, f1_score, precision_score, recall_score"
   ]
  },
  {
   "cell_type": "code",
   "execution_count": 91,
   "id": "f0ceba87",
   "metadata": {},
   "outputs": [],
   "source": [
    "#model = KNeighborsClassifier(n_neighbors=5)\n",
    "#model.fit(X_train,Y_train)\n",
    "#Y_pred = KNN.predict(X_test)\n",
    "#print(\"Precision Score : \",precision_score(Y_test, Y_pred, \n",
    "                                          # pos_label='positive',\n",
    "                                           #average='micro'))\n",
    "#print(\"Recall Score : \",recall_score(Y_test, Y_pred, \n",
    "                                           #pos_label='positive',\n",
    "                                           #average='micro'))\n",
    "        \n",
    "#Precision Score :  0.5175619834710744\n",
    "#Recall Score :  0.5175619834710744     "
   ]
  },
  {
   "cell_type": "code",
   "execution_count": 92,
   "id": "189f13c3",
   "metadata": {},
   "outputs": [],
   "source": [
    "#classifier = LogisticRegression()\n",
    "#classifier.fit(X_train, Y_train)\n",
    "\n",
    "#print(f\"LR Training Data: {classifier.score(X_train, Y_train)}\")\n",
    "#print(f\"LR Testing Data: {classifier.score(X_test, Y_test)}\")\n",
    "#LR Training Data: 0.5083322568143651\n",
    "#LR Testing Data: 0.5051652892561983"
   ]
  },
  {
   "cell_type": "code",
   "execution_count": 93,
   "id": "95a9907f",
   "metadata": {},
   "outputs": [],
   "source": [
    "rfc = RandomForestClassifier()"
   ]
  },
  {
   "cell_type": "code",
   "execution_count": 94,
   "id": "2107b41f",
   "metadata": {},
   "outputs": [],
   "source": [
    "# by increasing my test size I am able to get a better result, will this be the same if i use up/ downsampling?"
   ]
  },
  {
   "cell_type": "code",
   "execution_count": 95,
   "id": "a19d6c1b",
   "metadata": {},
   "outputs": [
    {
     "data": {
      "text/plain": [
       "7432    7\n",
       "7124    6\n",
       "4327    4\n",
       "5723    3\n",
       "1279    6\n",
       "       ..\n",
       "832     6\n",
       "9395    1\n",
       "8426    0\n",
       "8242    3\n",
       "1364    0\n",
       "Name: TargetClass, Length: 13759, dtype: int64"
      ]
     },
     "execution_count": 95,
     "metadata": {},
     "output_type": "execute_result"
    }
   ],
   "source": [
    "Y_train"
   ]
  },
  {
   "cell_type": "code",
   "execution_count": 96,
   "id": "79ec002e",
   "metadata": {},
   "outputs": [],
   "source": [
    "import numpy as np\n",
    "from sklearn.utils.class_weight import compute_class_weight\n",
    "\n",
    "#y_0 = np.ones(8)     \n",
    "#y_1 = np.ones(477) + 1 \n",
    "#y_2 = np.ones(1028) + 2 \n",
    "#y_3 = np.ones(1966) + 3 \n",
    "#y_4 = np.ones(1742) + 4 \n",
    "#y_5 = np.ones(2186) + 5 \n",
    "#y_6 = np.ones(346) + 6 \n",
    "#y_7 = np.ones(18) + 7\n",
    "#train_labels= np.concatenate([y_0,y_1, y_2,y_3,y_4,y_5,y_6,y_7])\n",
    "#len(y)\n",
    "\n",
    "#classes=[0,1,2,3,4,5,6,7]\n",
    "#len(y)"
   ]
  },
  {
   "cell_type": "code",
   "execution_count": 97,
   "id": "0feec7a7",
   "metadata": {},
   "outputs": [],
   "source": [
    "#class_weights = compute_class_weight(class_weight = \"balanced\", classes= np.unique(train_labels), y= train_labels)\n",
    "#class_weights"
   ]
  },
  {
   "cell_type": "code",
   "execution_count": 98,
   "id": "7326800f",
   "metadata": {},
   "outputs": [],
   "source": [
    "#wg={0:121.421875,1:2.03642558,2:0.94491732,3:0.49408698,4:0.55762055,5:0.44436185,6:2.8074422,7:53.96527778}"
   ]
  },
  {
   "cell_type": "code",
   "execution_count": 99,
   "id": "3a3a07b2",
   "metadata": {},
   "outputs": [
    {
     "name": "stdout",
     "output_type": "stream",
     "text": [
      "RFC Training Data : 0.9324805581801003\n",
      "RFC Testing Data: 0.9116279069767442\n"
     ]
    }
   ],
   "source": [
    "scaler = StandardScaler().fit(X_train)\n",
    "X_train_scaled = scaler.transform(X_train)\n",
    "X_test_scaled = scaler.transform(X_test)\n",
    "\n",
    "clf =RandomForestClassifier(n_estimators=200, max_features=\"log2\", max_depth=10).fit(X_train_scaled, Y_train)\n",
    "\n",
    "y_pred=clf.predict(X_test_scaled)\n",
    "\n",
    "print(f'RFC Training Data : {clf.score(X_train_scaled,Y_train)}')\n",
    "print(f'RFC Testing Data: {clf.score(X_test_scaled,Y_test)}')"
   ]
  },
  {
   "cell_type": "code",
   "execution_count": 100,
   "id": "22657a22",
   "metadata": {},
   "outputs": [],
   "source": [
    "# >:) got ya b*tch "
   ]
  },
  {
   "cell_type": "code",
   "execution_count": 101,
   "id": "e93c9758",
   "metadata": {},
   "outputs": [],
   "source": [
    "#RFC Training Data : 0.8759850148559618\n",
    "#RFC Testing Data: 0.7758264462809917\n",
    "\n",
    "#Achieved with a sample size of 0.2 \n",
    "#n_estimators=200, max_features=\"log2\", max_depth=10"
   ]
  },
  {
   "cell_type": "code",
   "execution_count": 102,
   "id": "2a243e52",
   "metadata": {},
   "outputs": [
    {
     "data": {
      "text/html": [
       "<style>#sk-container-id-4 {color: black;background-color: white;}#sk-container-id-4 pre{padding: 0;}#sk-container-id-4 div.sk-toggleable {background-color: white;}#sk-container-id-4 label.sk-toggleable__label {cursor: pointer;display: block;width: 100%;margin-bottom: 0;padding: 0.3em;box-sizing: border-box;text-align: center;}#sk-container-id-4 label.sk-toggleable__label-arrow:before {content: \"▸\";float: left;margin-right: 0.25em;color: #696969;}#sk-container-id-4 label.sk-toggleable__label-arrow:hover:before {color: black;}#sk-container-id-4 div.sk-estimator:hover label.sk-toggleable__label-arrow:before {color: black;}#sk-container-id-4 div.sk-toggleable__content {max-height: 0;max-width: 0;overflow: hidden;text-align: left;background-color: #f0f8ff;}#sk-container-id-4 div.sk-toggleable__content pre {margin: 0.2em;color: black;border-radius: 0.25em;background-color: #f0f8ff;}#sk-container-id-4 input.sk-toggleable__control:checked~div.sk-toggleable__content {max-height: 200px;max-width: 100%;overflow: auto;}#sk-container-id-4 input.sk-toggleable__control:checked~label.sk-toggleable__label-arrow:before {content: \"▾\";}#sk-container-id-4 div.sk-estimator input.sk-toggleable__control:checked~label.sk-toggleable__label {background-color: #d4ebff;}#sk-container-id-4 div.sk-label input.sk-toggleable__control:checked~label.sk-toggleable__label {background-color: #d4ebff;}#sk-container-id-4 input.sk-hidden--visually {border: 0;clip: rect(1px 1px 1px 1px);clip: rect(1px, 1px, 1px, 1px);height: 1px;margin: -1px;overflow: hidden;padding: 0;position: absolute;width: 1px;}#sk-container-id-4 div.sk-estimator {font-family: monospace;background-color: #f0f8ff;border: 1px dotted black;border-radius: 0.25em;box-sizing: border-box;margin-bottom: 0.5em;}#sk-container-id-4 div.sk-estimator:hover {background-color: #d4ebff;}#sk-container-id-4 div.sk-parallel-item::after {content: \"\";width: 100%;border-bottom: 1px solid gray;flex-grow: 1;}#sk-container-id-4 div.sk-label:hover label.sk-toggleable__label {background-color: #d4ebff;}#sk-container-id-4 div.sk-serial::before {content: \"\";position: absolute;border-left: 1px solid gray;box-sizing: border-box;top: 0;bottom: 0;left: 50%;z-index: 0;}#sk-container-id-4 div.sk-serial {display: flex;flex-direction: column;align-items: center;background-color: white;padding-right: 0.2em;padding-left: 0.2em;position: relative;}#sk-container-id-4 div.sk-item {position: relative;z-index: 1;}#sk-container-id-4 div.sk-parallel {display: flex;align-items: stretch;justify-content: center;background-color: white;position: relative;}#sk-container-id-4 div.sk-item::before, #sk-container-id-4 div.sk-parallel-item::before {content: \"\";position: absolute;border-left: 1px solid gray;box-sizing: border-box;top: 0;bottom: 0;left: 50%;z-index: -1;}#sk-container-id-4 div.sk-parallel-item {display: flex;flex-direction: column;z-index: 1;position: relative;background-color: white;}#sk-container-id-4 div.sk-parallel-item:first-child::after {align-self: flex-end;width: 50%;}#sk-container-id-4 div.sk-parallel-item:last-child::after {align-self: flex-start;width: 50%;}#sk-container-id-4 div.sk-parallel-item:only-child::after {width: 0;}#sk-container-id-4 div.sk-dashed-wrapped {border: 1px dashed gray;margin: 0 0.4em 0.5em 0.4em;box-sizing: border-box;padding-bottom: 0.4em;background-color: white;}#sk-container-id-4 div.sk-label label {font-family: monospace;font-weight: bold;display: inline-block;line-height: 1.2em;}#sk-container-id-4 div.sk-label-container {text-align: center;}#sk-container-id-4 div.sk-container {/* jupyter's `normalize.less` sets `[hidden] { display: none; }` but bootstrap.min.css set `[hidden] { display: none !important; }` so we also need the `!important` here to be able to override the default hidden behavior on the sphinx rendered scikit-learn.org. See: https://github.com/scikit-learn/scikit-learn/issues/21755 */display: inline-block !important;position: relative;}#sk-container-id-4 div.sk-text-repr-fallback {display: none;}</style><div id=\"sk-container-id-4\" class=\"sk-top-container\"><div class=\"sk-text-repr-fallback\"><pre>RandomForestClassifier(max_depth=10, max_features=&#x27;log2&#x27;, n_estimators=200)</pre><b>In a Jupyter environment, please rerun this cell to show the HTML representation or trust the notebook. <br />On GitHub, the HTML representation is unable to render, please try loading this page with nbviewer.org.</b></div><div class=\"sk-container\" hidden><div class=\"sk-item\"><div class=\"sk-estimator sk-toggleable\"><input class=\"sk-toggleable__control sk-hidden--visually\" id=\"sk-estimator-id-6\" type=\"checkbox\" checked><label for=\"sk-estimator-id-6\" class=\"sk-toggleable__label sk-toggleable__label-arrow\">RandomForestClassifier</label><div class=\"sk-toggleable__content\"><pre>RandomForestClassifier(max_depth=10, max_features=&#x27;log2&#x27;, n_estimators=200)</pre></div></div></div></div></div>"
      ],
      "text/plain": [
       "RandomForestClassifier(max_depth=10, max_features='log2', n_estimators=200)"
      ]
     },
     "execution_count": 102,
     "metadata": {},
     "output_type": "execute_result"
    }
   ],
   "source": [
    "classifier = clf\n",
    "classifier\n",
    "classifier.fit(X_train, Y_train)"
   ]
  },
  {
   "cell_type": "code",
   "execution_count": 122,
   "id": "b72a27a6",
   "metadata": {},
   "outputs": [
    {
     "name": "stdout",
     "output_type": "stream",
     "text": [
      "First 30 predictions:   [1 3 3 1 6 4 5 4 6 4 6 6 7 5 0 7 6 4 6 1 4 0 0 5 4 3 0 6 7 7]\n",
      "First 30 actual labels: [4, 6, 7, 3, 6, 3, 6, 1, 3, 3, 4, 5, 1, 0, 5, 4, 6, 4, 5, 0, 6, 5, 7, 7, 4, 7, 1, 7, 5, 5]\n"
     ]
    }
   ],
   "source": [
    "predictions = classifier.predict(X_test)\n",
    "print(f\"First 30 predictions:   {predictions[:30]}\")\n",
    "print(f\"First 30 actual labels: {Y_test[:30].tolist()}\")"
   ]
  },
  {
   "cell_type": "code",
   "execution_count": 104,
   "id": "ec4f3b4a",
   "metadata": {},
   "outputs": [
    {
     "data": {
      "text/plain": [
       "array([[492,   0,   0,   0,   0,   0,   0],\n",
       "       [  2, 477,   5,   6,   2,   0,   0],\n",
       "       [  0,  12, 453,  26,   0,   0,   0],\n",
       "       [  0,   3,  45, 389,  52,   2,   0],\n",
       "       [  0,   0,   0,  54, 378,  60,   0],\n",
       "       [  0,   0,   0,   0,  26, 465,   0],\n",
       "       [  0,   0,   0,   0,   0,   0, 491]], dtype=int64)"
      ]
     },
     "execution_count": 104,
     "metadata": {},
     "output_type": "execute_result"
    }
   ],
   "source": [
    "y_true = Y_test\n",
    "y_pred = classifier.predict(X_test)\n",
    "confusion_matrix(y_true, y_pred)"
   ]
  },
  {
   "cell_type": "code",
   "execution_count": 105,
   "id": "b1c5abf3",
   "metadata": {},
   "outputs": [
    {
     "name": "stdout",
     "output_type": "stream",
     "text": [
      "              precision    recall  f1-score   support\n",
      "\n",
      "           0       1.00      1.00      1.00       492\n",
      "           1       0.97      0.97      0.97       492\n",
      "           3       0.90      0.92      0.91       491\n",
      "           4       0.82      0.79      0.81       491\n",
      "           5       0.83      0.77      0.80       492\n",
      "           6       0.88      0.95      0.91       491\n",
      "           7       1.00      1.00      1.00       491\n",
      "\n",
      "    accuracy                           0.91      3440\n",
      "   macro avg       0.91      0.91      0.91      3440\n",
      "weighted avg       0.91      0.91      0.91      3440\n",
      "\n"
     ]
    }
   ],
   "source": [
    "print(classification_report(y_true, y_pred))"
   ]
  },
  {
   "cell_type": "code",
   "execution_count": 119,
   "id": "956df497",
   "metadata": {},
   "outputs": [],
   "source": [
    "#it works? Maybe, I hope so. I think it's good. "
   ]
  },
  {
   "cell_type": "code",
   "execution_count": 107,
   "id": "d2268d54",
   "metadata": {},
   "outputs": [],
   "source": [
    "feature_importances = clf.feature_importances_"
   ]
  },
  {
   "cell_type": "code",
   "execution_count": 108,
   "id": "2f769a6e",
   "metadata": {},
   "outputs": [
    {
     "data": {
      "image/png": "[encoded data removed]",
      "text/plain": [
       "<Figure size 720x720 with 1 Axes>"
      ]
     },
     "metadata": {
      "needs_background": "light"
     },
     "output_type": "display_data"
    }
   ],
   "source": [
    "features = sorted(zip(X.columns, clf.feature_importances_), key = lambda x: x[1])\n",
    "cols = [f[0] for f in features]\n",
    "width = [f[1] for f in features]\n",
    "\n",
    "fig, ax = plt.subplots()\n",
    "\n",
    "fig.set_size_inches(10,10)\n",
    "plt.margins(y=0.001)\n",
    "\n",
    "ax.barh(y=cols, width=width)\n",
    "\n",
    "plt.show()"
   ]
  },
  {
   "cell_type": "code",
   "execution_count": 109,
   "id": "c593c8f5",
   "metadata": {},
   "outputs": [],
   "source": [
    "#upsampling created a larger feature importance on plx, unlike the previous model which puts more focus on AMAG. \n",
    "#this is potentially an issue, plx doesn't really help loads with star classification. AMAG should be second after B-V. \n",
    "#The good news is that your model will learn considerably more about your minority class and won’t just predict the majority\n",
    "#class for a given observation. The bad news is that it’s also possibly going to overfit to the characteristics of those \n",
    "#observations you’ve just duplicated multiple times."
   ]
  },
  {
   "cell_type": "code",
   "execution_count": 110,
   "id": "0312513b",
   "metadata": {},
   "outputs": [],
   "source": [
    "#RFC Training Data : 0.8699134478749515\n",
    "#RFC Testing Data: 0.7742768595041323 #n_estimators=200, max_features=\"log2\", max_depth=10\n",
    "#RFC Training Data : 0.9711923524092495\n",
    "#RFC Testing Data: 0.7608471074380165(n_estimators=200, max_features=\"log2\", max_depth=15)\n",
    "\n",
    "\n",
    "#increase sample size= 0.3\n",
    "#RFC Training Data : 0.880702790491658\n",
    "#RFC Testing Data: 0.7796143250688705 #n_estimators=200, max_features=\"log2\", max_depth=10"
   ]
  },
  {
   "cell_type": "code",
   "execution_count": 121,
   "id": "e2c50792",
   "metadata": {},
   "outputs": [],
   "source": [
    "#from sklearn.feature_selection import SelectFromModel\n",
    "#sel = SelectFromModel(clf)\n",
    "#sel.fit(X_train_scaled, Y_train)"
   ]
  },
  {
   "cell_type": "code",
   "execution_count": 112,
   "id": "1546fbff",
   "metadata": {},
   "outputs": [],
   "source": [
    "#X_selected_train, X_selected_test, Y_train, Y_test = train_test_split(sel.transform(X), Y)\n",
    "#scaler = StandardScaler().fit(X_selected_train)\n",
    "#X_selected_train_scaled = scaler.transform(X_selected_train)\n",
    "#X_selected_test_scaled = scaler.transform(X_selected_test)"
   ]
  },
  {
   "cell_type": "code",
   "execution_count": 120,
   "id": "b4b9137d",
   "metadata": {},
   "outputs": [],
   "source": [
    "#clf = LogisticRegression()\n",
    "#clf.fit(X_selected_train_scaled, Y_train)\n",
    "#print(f'Training Score: {clf.score(X_selected_train_scaled, Y_train)}')\n",
    "#print(f'Testing Score: {clf.score(X_selected_test_scaled, Y_test)}')"
   ]
  },
  {
   "cell_type": "code",
   "execution_count": 114,
   "id": "bb034007",
   "metadata": {},
   "outputs": [],
   "source": [
    "# does not improve score stick with RFC\n",
    "#test model3- yes this is good- it's not regression so I know it's using distance. "
   ]
  },
  {
   "cell_type": "code",
   "execution_count": 115,
   "id": "99838238",
   "metadata": {},
   "outputs": [],
   "source": [
    "#non linear models need more data to pull from this is why increasing the test size works so well, but how to I go about\n",
    "#upsamping without creating bias? Nothing changes when I use the larger data set so that isn't the issue, it's the distribution. \n",
    "#my only concern now is that I've created bias, I need to figure out how to sort class weights because I'm introducing too much \n",
    "#extra data into my model. It's no longer realistic. "
   ]
  },
  {
   "cell_type": "code",
   "execution_count": 116,
   "id": "5e8e502f",
   "metadata": {},
   "outputs": [],
   "source": [
    "#from sklearn.datasets import make_classification\n",
    "#from sklearn.ensemble import RandomForestClassifier\n",
    "# Build a classification task using 3 informative features\n",
    "#X, Y = make_classification(n_samples=1936,\n",
    "                         #  n_features=10,\n",
    "                         #  n_informative=3,\n",
    "                         #  n_redundant=0,\n",
    "                         #  n_repeated=0,\n",
    "                         #  n_classes=2,\n",
    "                          # random_state=0,\n",
    "                          # shuffle=False)\n",
    "\n",
    "\n",
    "#rfc = RandomForestClassifier() \n",
    "\n",
    "#param_grid = { \n",
    "   # 'n_estimators': [100, 200, 500],\n",
    "   # 'max_features': ['auto', 'sqrt', 'log2'],\n",
    "   # 'max_depth': [1,3,5,7,10],    \n",
    "#}\n",
    "\n",
    "#CV_rfc = GridSearchCV(estimator=rfc, param_grid=param_grid, cv= 5)\n",
    "#CV_rfc.fit(X, Y)\n",
    "#print (CV_rfc.best_params_)"
   ]
  },
  {
   "cell_type": "code",
   "execution_count": 117,
   "id": "e247abe4",
   "metadata": {},
   "outputs": [],
   "source": [
    "#from sklearn.model_selection import RandomizedSearchCV\n",
    "#from sklearn.model_selection import GridSearchCV\n",
    "#from sklearn.model_selection import train_test_split"
   ]
  },
  {
   "cell_type": "code",
   "execution_count": 118,
   "id": "bb54b8f1",
   "metadata": {},
   "outputs": [],
   "source": [
    "\n",
    "#RFC Training Data : 0.8699134478749515\n",
    "#RFC Testing Data: 0.7742768595041323 #n_estimators=200, max_features=\"log2\", max_depth=10\n",
    "#RFC Training Data : 0.9711923524092495\n",
    "#RFC Testing Data: 0.7608471074380165(n_estimators=200, max_features=\"log2\", max_depth=15)\n",
    "#RFC Training Data : 0.8697842655987599\n",
    "#RFC Testing Data: 0.7706611570247934 (n_estimators=200, max_features=\"auto\", max_depth=10)"
   ]
  },
  {
   "cell_type": "code",
   "execution_count": null,
   "id": "1a003911",
   "metadata": {},
   "outputs": [],
   "source": []
  }
 ],
 "metadata": {
  "kernelspec": {
   "display_name": "Python 3 (ipykernel)",
   "language": "python",
   "name": "python3"
  },
  "language_info": {
   "codemirror_mode": {
    "name": "ipython",
    "version": 3
   },
   "file_extension": ".py",
   "mimetype": "text/x-python",
   "name": "python",
   "nbconvert_exporter": "python",
   "pygments_lexer": "ipython3",
   "version": "3.9.12"
  }
 },
 "nbformat": 4,
 "nbformat_minor": 5
}
